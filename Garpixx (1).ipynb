{
  "cells": [
    {
      "cell_type": "code",
      "execution_count": 101,
      "metadata": {
        "collapsed": true,
        "id": "xmc_B0qqFnVP"
      },
      "outputs": [],
      "source": [
        "import numpy as np\n",
        "import pandas as pd\n",
        "import matplotlib.pyplot as  plt\n",
        "from sklearn.model_selection import train_test_split\n",
        "from sklearn.metrics import explained_variance_score, max_error, mean_squared_error, mean_absolute_error\n",
        "from sklearn.linear_model import LinearRegression\n",
        "from sklearn.metrics import confusion_matrix\n",
        "import seaborn as sea\n",
        "from sklearn.neighbors import KNeighborsRegressor\n",
        "from sklearn.ensemble import RandomForestRegressor\n",
        "\n",
        "\n",
        "def quality_metrics(marks, preds):\n",
        "    \"\"\"\n",
        "    Функция выводит значения основных показателей качества обучения модели\n",
        "    \"\"\"\n",
        "    print(\"explained_variance_score: {0:.9f}\".format(explained_variance_score(marks, preds)))\n",
        "    print(\"max_error: {0:.9f}\".format(max_error(marks, preds)))\n",
        "    print(\"mean_squared_error: {0:.9f}\".format(mean_squared_error(marks, preds)))\n",
        "    print(\"mean_absolute_error: {0:.9f}\".format(mean_absolute_error(marks, preds)))\n",
        "\n",
        "def graph(x, y, z):\n",
        "        fig = plt.figure()\n",
        "        ax = fig.add_subplot(1, 2, 1, projection='3d')\n",
        "        ax.scatter(X_test[x], X_test[y], X_test[z], c=y_test)\n",
        "        ax.set_xlabel(x)\n",
        "        ax.set_ylabel(y)\n",
        "        ax.set_zlabel(z)\n",
        "        ax.legend()\n",
        "        plt.title('Реальные классы')\n",
        "        ax = fig.add_subplot(1, 2, 2, projection='3d')\n",
        "        ax.scatter(X_test[x], X_test[y], X_test[z], c=preds)\n",
        "        ax.set_xlabel(x)\n",
        "        ax.set_ylabel(y)\n",
        "        ax.set_zlabel(z)\n",
        "        ax.legend()\n",
        "        plt.title('Работа модели')\n",
        "        plt.show()"
      ]
    },
    {
      "cell_type": "code",
      "execution_count": 102,
      "outputs": [],
      "source": [
        "df = pd.read_csv(r'garpixxx (3).csv')"
      ],
      "metadata": {
        "id": "5BNWcPMyFnVW"
      }
    },
    {
      "cell_type": "code",
      "execution_count": 103,
      "outputs": [
        {
          "output_type": "execute_result",
          "data": {
            "text/plain": [
              "Index(['density_percents', 'loading_sizes', 'group', 'mas'], dtype='object')"
            ]
          },
          "metadata": {},
          "execution_count": 103
        }
      ],
      "source": [
        "df.columns"
      ],
      "metadata": {
        "colab": {
          "base_uri": "https://localhost:8080/"
        },
        "id": "J-lvCm-kFnVW",
        "outputId": "a2cf4027-e4b5-4bbd-f4e0-b62de6732f02"
      }
    },
    {
      "cell_type": "markdown",
      "source": [
        "Нормализация данных"
      ],
      "metadata": {
        "id": "cN8viPS22TNW"
      }
    },
    {
      "cell_type": "code",
      "source": [
        "from sklearn import preprocessing\n",
        "scaler = preprocessing.MinMaxScaler()\n",
        "names = df.columns\n",
        "d = scaler.fit_transform(df)\n",
        "df = pd.DataFrame(d, columns=names)"
      ],
      "metadata": {
        "id": "d1XB9jbX8GK2"
      },
      "execution_count": 234,
      "outputs": []
    },
    {
      "cell_type": "code",
      "source": [
        "df.head()"
      ],
      "metadata": {
        "colab": {
          "base_uri": "https://localhost:8080/",
          "height": 206
        },
        "id": "SWcy_2O-8Wxq",
        "outputId": "e560cffa-9254-4692-9ec3-44d62d7a1388"
      },
      "execution_count": 235,
      "outputs": [
        {
          "output_type": "execute_result",
          "data": {
            "text/plain": [
              "   density_percents  loading_sizes  group       mas\n",
              "0          0.569707       0.621971    0.6  0.000039\n",
              "1          0.601055       0.448884    0.4  0.009958\n",
              "2          0.595685       0.628143    0.6  0.000007\n",
              "3          0.707307       0.690030    0.6  0.000010\n",
              "4          0.537850       0.471281    0.4  0.000000"
            ],
            "text/html": [
              "\n",
              "\n",
              "  <div id=\"df-ca2455b6-5d29-475b-b1a4-f4e50966374c\">\n",
              "    <div class=\"colab-df-container\">\n",
              "      <div>\n",
              "<style scoped>\n",
              "    .dataframe tbody tr th:only-of-type {\n",
              "        vertical-align: middle;\n",
              "    }\n",
              "\n",
              "    .dataframe tbody tr th {\n",
              "        vertical-align: top;\n",
              "    }\n",
              "\n",
              "    .dataframe thead th {\n",
              "        text-align: right;\n",
              "    }\n",
              "</style>\n",
              "<table border=\"1\" class=\"dataframe\">\n",
              "  <thead>\n",
              "    <tr style=\"text-align: right;\">\n",
              "      <th></th>\n",
              "      <th>density_percents</th>\n",
              "      <th>loading_sizes</th>\n",
              "      <th>group</th>\n",
              "      <th>mas</th>\n",
              "    </tr>\n",
              "  </thead>\n",
              "  <tbody>\n",
              "    <tr>\n",
              "      <th>0</th>\n",
              "      <td>0.569707</td>\n",
              "      <td>0.621971</td>\n",
              "      <td>0.6</td>\n",
              "      <td>0.000039</td>\n",
              "    </tr>\n",
              "    <tr>\n",
              "      <th>1</th>\n",
              "      <td>0.601055</td>\n",
              "      <td>0.448884</td>\n",
              "      <td>0.4</td>\n",
              "      <td>0.009958</td>\n",
              "    </tr>\n",
              "    <tr>\n",
              "      <th>2</th>\n",
              "      <td>0.595685</td>\n",
              "      <td>0.628143</td>\n",
              "      <td>0.6</td>\n",
              "      <td>0.000007</td>\n",
              "    </tr>\n",
              "    <tr>\n",
              "      <th>3</th>\n",
              "      <td>0.707307</td>\n",
              "      <td>0.690030</td>\n",
              "      <td>0.6</td>\n",
              "      <td>0.000010</td>\n",
              "    </tr>\n",
              "    <tr>\n",
              "      <th>4</th>\n",
              "      <td>0.537850</td>\n",
              "      <td>0.471281</td>\n",
              "      <td>0.4</td>\n",
              "      <td>0.000000</td>\n",
              "    </tr>\n",
              "  </tbody>\n",
              "</table>\n",
              "</div>\n",
              "      <button class=\"colab-df-convert\" onclick=\"convertToInteractive('df-ca2455b6-5d29-475b-b1a4-f4e50966374c')\"\n",
              "              title=\"Convert this dataframe to an interactive table.\"\n",
              "              style=\"display:none;\">\n",
              "\n",
              "  <svg xmlns=\"http://www.w3.org/2000/svg\" height=\"24px\"viewBox=\"0 0 24 24\"\n",
              "       width=\"24px\">\n",
              "    <path d=\"M0 0h24v24H0V0z\" fill=\"none\"/>\n",
              "    <path d=\"M18.56 5.44l.94 2.06.94-2.06 2.06-.94-2.06-.94-.94-2.06-.94 2.06-2.06.94zm-11 1L8.5 8.5l.94-2.06 2.06-.94-2.06-.94L8.5 2.5l-.94 2.06-2.06.94zm10 10l.94 2.06.94-2.06 2.06-.94-2.06-.94-.94-2.06-.94 2.06-2.06.94z\"/><path d=\"M17.41 7.96l-1.37-1.37c-.4-.4-.92-.59-1.43-.59-.52 0-1.04.2-1.43.59L10.3 9.45l-7.72 7.72c-.78.78-.78 2.05 0 2.83L4 21.41c.39.39.9.59 1.41.59.51 0 1.02-.2 1.41-.59l7.78-7.78 2.81-2.81c.8-.78.8-2.07 0-2.86zM5.41 20L4 18.59l7.72-7.72 1.47 1.35L5.41 20z\"/>\n",
              "  </svg>\n",
              "      </button>\n",
              "\n",
              "\n",
              "\n",
              "    <div id=\"df-f484a505-3e03-46a1-b3cd-ac1c73514e6b\">\n",
              "      <button class=\"colab-df-quickchart\" onclick=\"quickchart('df-f484a505-3e03-46a1-b3cd-ac1c73514e6b')\"\n",
              "              title=\"Suggest charts.\"\n",
              "              style=\"display:none;\">\n",
              "\n",
              "<svg xmlns=\"http://www.w3.org/2000/svg\" height=\"24px\"viewBox=\"0 0 24 24\"\n",
              "     width=\"24px\">\n",
              "    <g>\n",
              "        <path d=\"M19 3H5c-1.1 0-2 .9-2 2v14c0 1.1.9 2 2 2h14c1.1 0 2-.9 2-2V5c0-1.1-.9-2-2-2zM9 17H7v-7h2v7zm4 0h-2V7h2v10zm4 0h-2v-4h2v4z\"/>\n",
              "    </g>\n",
              "</svg>\n",
              "      </button>\n",
              "    </div>\n",
              "\n",
              "<style>\n",
              "  .colab-df-quickchart {\n",
              "    background-color: #E8F0FE;\n",
              "    border: none;\n",
              "    border-radius: 50%;\n",
              "    cursor: pointer;\n",
              "    display: none;\n",
              "    fill: #1967D2;\n",
              "    height: 32px;\n",
              "    padding: 0 0 0 0;\n",
              "    width: 32px;\n",
              "  }\n",
              "\n",
              "  .colab-df-quickchart:hover {\n",
              "    background-color: #E2EBFA;\n",
              "    box-shadow: 0px 1px 2px rgba(60, 64, 67, 0.3), 0px 1px 3px 1px rgba(60, 64, 67, 0.15);\n",
              "    fill: #174EA6;\n",
              "  }\n",
              "\n",
              "  [theme=dark] .colab-df-quickchart {\n",
              "    background-color: #3B4455;\n",
              "    fill: #D2E3FC;\n",
              "  }\n",
              "\n",
              "  [theme=dark] .colab-df-quickchart:hover {\n",
              "    background-color: #434B5C;\n",
              "    box-shadow: 0px 1px 3px 1px rgba(0, 0, 0, 0.15);\n",
              "    filter: drop-shadow(0px 1px 2px rgba(0, 0, 0, 0.3));\n",
              "    fill: #FFFFFF;\n",
              "  }\n",
              "</style>\n",
              "\n",
              "    <script>\n",
              "      async function quickchart(key) {\n",
              "        const containerElement = document.querySelector('#' + key);\n",
              "        const charts = await google.colab.kernel.invokeFunction(\n",
              "            'suggestCharts', [key], {});\n",
              "      }\n",
              "    </script>\n",
              "\n",
              "      <script>\n",
              "\n",
              "function displayQuickchartButton(domScope) {\n",
              "  let quickchartButtonEl =\n",
              "    domScope.querySelector('#df-f484a505-3e03-46a1-b3cd-ac1c73514e6b button.colab-df-quickchart');\n",
              "  quickchartButtonEl.style.display =\n",
              "    google.colab.kernel.accessAllowed ? 'block' : 'none';\n",
              "}\n",
              "\n",
              "        displayQuickchartButton(document);\n",
              "      </script>\n",
              "      <style>\n",
              "    .colab-df-container {\n",
              "      display:flex;\n",
              "      flex-wrap:wrap;\n",
              "      gap: 12px;\n",
              "    }\n",
              "\n",
              "    .colab-df-convert {\n",
              "      background-color: #E8F0FE;\n",
              "      border: none;\n",
              "      border-radius: 50%;\n",
              "      cursor: pointer;\n",
              "      display: none;\n",
              "      fill: #1967D2;\n",
              "      height: 32px;\n",
              "      padding: 0 0 0 0;\n",
              "      width: 32px;\n",
              "    }\n",
              "\n",
              "    .colab-df-convert:hover {\n",
              "      background-color: #E2EBFA;\n",
              "      box-shadow: 0px 1px 2px rgba(60, 64, 67, 0.3), 0px 1px 3px 1px rgba(60, 64, 67, 0.15);\n",
              "      fill: #174EA6;\n",
              "    }\n",
              "\n",
              "    [theme=dark] .colab-df-convert {\n",
              "      background-color: #3B4455;\n",
              "      fill: #D2E3FC;\n",
              "    }\n",
              "\n",
              "    [theme=dark] .colab-df-convert:hover {\n",
              "      background-color: #434B5C;\n",
              "      box-shadow: 0px 1px 3px 1px rgba(0, 0, 0, 0.15);\n",
              "      filter: drop-shadow(0px 1px 2px rgba(0, 0, 0, 0.3));\n",
              "      fill: #FFFFFF;\n",
              "    }\n",
              "  </style>\n",
              "\n",
              "      <script>\n",
              "        const buttonEl =\n",
              "          document.querySelector('#df-ca2455b6-5d29-475b-b1a4-f4e50966374c button.colab-df-convert');\n",
              "        buttonEl.style.display =\n",
              "          google.colab.kernel.accessAllowed ? 'block' : 'none';\n",
              "\n",
              "        async function convertToInteractive(key) {\n",
              "          const element = document.querySelector('#df-ca2455b6-5d29-475b-b1a4-f4e50966374c');\n",
              "          const dataTable =\n",
              "            await google.colab.kernel.invokeFunction('convertToInteractive',\n",
              "                                                     [key], {});\n",
              "          if (!dataTable) return;\n",
              "\n",
              "          const docLinkHtml = 'Like what you see? Visit the ' +\n",
              "            '<a target=\"_blank\" href=https://colab.research.google.com/notebooks/data_table.ipynb>data table notebook</a>'\n",
              "            + ' to learn more about interactive tables.';\n",
              "          element.innerHTML = '';\n",
              "          dataTable['output_type'] = 'display_data';\n",
              "          await google.colab.output.renderOutput(dataTable, element);\n",
              "          const docLink = document.createElement('div');\n",
              "          docLink.innerHTML = docLinkHtml;\n",
              "          element.appendChild(docLink);\n",
              "        }\n",
              "      </script>\n",
              "    </div>\n",
              "  </div>\n"
            ]
          },
          "metadata": {},
          "execution_count": 235
        }
      ]
    },
    {
      "cell_type": "code",
      "execution_count": 105,
      "outputs": [],
      "source": [
        "# f = plt.figure(figsize=(19, 15))\n",
        "# plt.matshow(df.corr(), fignum=f.number)\n",
        "# plt.xticks(range(df.select_dtypes(['number']).shape[1]), df.select_dtypes(['number']).columns, fontsize=14, rotation=45)\n",
        "# plt.yticks(range(df.select_dtypes(['number']).shape[1]), df.select_dtypes(['number']).columns, fontsize=14)\n",
        "# cb = plt.colorbar()\n",
        "# cb.ax.tick_params(labelsize=14)\n",
        "# plt.title('Correlation Matrix', fontsize=16)"
      ],
      "metadata": {
        "id": "pTJO1zo2FnVY"
      }
    },
    {
      "cell_type": "markdown",
      "source": [
        "хорошая корреляция между group и loading sizes"
      ],
      "metadata": {
        "collapsed": false,
        "id": "ysivwcATFnVZ"
      }
    },
    {
      "cell_type": "code",
      "source": [
        "plt.figure(figsize=(15,6))\n",
        "sea.heatmap(df.corr(), vmax=0.6, square=True, annot=True)"
      ],
      "metadata": {
        "colab": {
          "base_uri": "https://localhost:8080/",
          "height": 546
        },
        "id": "Qcj5tnOTbWrc",
        "outputId": "3c279589-67c1-4276-d44b-e96d80e0373b"
      },
      "execution_count": 106,
      "outputs": [
        {
          "output_type": "execute_result",
          "data": {
            "text/plain": [
              "<Axes: >"
            ]
          },
          "metadata": {},
          "execution_count": 106
        },
        {
          "output_type": "display_data",
          "data": {
            "text/plain": [
              "<Figure size 1500x600 with 2 Axes>"
            ],
            "image/png": "[encoded data removed]"
          },
          "metadata": {}
        }
      ]
    },
    {
      "cell_type": "code",
      "execution_count": 107,
      "outputs": [],
      "source": [
        "X_train, X_test, y_train, y_test = train_test_split(\n",
        "    df.drop(columns=['density_percents']), df['density_percents'], test_size=0.2, random_state=123)"
      ],
      "metadata": {
        "id": "8p7RtJQbFnVb"
      }
    },
    {
      "cell_type": "markdown",
      "source": [
        "random_state - одинак. результаты на разных компах"
      ],
      "metadata": {
        "id": "5GwLW39JEiVT"
      }
    },
    {
      "cell_type": "code",
      "execution_count": 108,
      "outputs": [
        {
          "output_type": "stream",
          "name": "stdout",
          "text": [
            "explained_variance_score: 0.293262841\n",
            "max_error: 0.628999229\n",
            "mean_squared_error: 0.044498310\n",
            "mean_absolute_error: 0.163088886\n",
            "coefficient of determination: 0.27417010500618166\n"
          ]
        }
      ],
      "source": [
        "clf = LinearRegression( n_jobs=-1)\n",
        "clf.fit(X_train, y_train)\n",
        "\n",
        "preds = clf.predict(X_test)\n",
        "\n",
        "quality_metrics(y_test, preds)\n",
        "r_sq = clf.score(X_test, y_test)\n",
        "print('coefficient of determination:', r_sq)"
      ],
      "metadata": {
        "colab": {
          "base_uri": "https://localhost:8080/"
        },
        "id": "u6AX0mtoFnVb",
        "outputId": "5c1c4cb4-d8fb-4922-cb6c-7baee26daad7"
      }
    },
    {
      "cell_type": "markdown",
      "source": [
        "coefficient of determination - качество модели\n",
        "n_jobs=-1 - на всех ядрах компа"
      ],
      "metadata": {
        "id": "QwV5quFoEz8C"
      }
    },
    {
      "cell_type": "code",
      "execution_count": 109,
      "outputs": [],
      "source": [
        "# graph('loading_sizes', 'group', 'mas')"
      ],
      "metadata": {
        "id": "wh7e8EirFnVc"
      }
    },
    {
      "cell_type": "code",
      "execution_count": 110,
      "outputs": [
        {
          "output_type": "stream",
          "name": "stdout",
          "text": [
            "explained_variance_score: 0.324903584\n",
            "max_error: 0.683370428\n",
            "mean_squared_error: 0.042284625\n",
            "mean_absolute_error: 0.154078479\n",
            "coefficient of determination: 0.27417010500618166\n"
          ]
        }
      ],
      "source": [
        "reg = KNeighborsRegressor(n_neighbors=9)\n",
        "reg.fit(X_train, y_train)\n",
        "\n",
        "preds = reg.predict(X_test)\n",
        "\n",
        "\n",
        "quality_metrics(y_test, preds)\n",
        "r_sq = clf.score(X_test, y_test)\n",
        "print('coefficient of determination:', r_sq)\n",
        "# graph('loading_sizes', 'group', 'mas')"
      ],
      "metadata": {
        "colab": {
          "base_uri": "https://localhost:8080/"
        },
        "id": "-UR4Oz4RFnVd",
        "outputId": "0c4e4978-02a7-4bf8-bff7-5cf01bb2494a"
      }
    },
    {
      "cell_type": "code",
      "source": [
        "X_test.info()\n"
      ],
      "metadata": {
        "colab": {
          "base_uri": "https://localhost:8080/"
        },
        "id": "eOaQ10zmH56j",
        "outputId": "e7e308d8-bf13-404e-ab8c-c83d2a691c8d"
      },
      "execution_count": 111,
      "outputs": [
        {
          "output_type": "stream",
          "name": "stdout",
          "text": [
            "<class 'pandas.core.frame.DataFrame'>\n",
            "Int64Index: 126 entries, 466 to 616\n",
            "Data columns (total 3 columns):\n",
            " #   Column         Non-Null Count  Dtype  \n",
            "---  ------         --------------  -----  \n",
            " 0   loading_sizes  126 non-null    float64\n",
            " 1   group          126 non-null    float64\n",
            " 2   mas            126 non-null    float64\n",
            "dtypes: float64(3)\n",
            "memory usage: 3.9 KB\n"
          ]
        }
      ]
    },
    {
      "cell_type": "code",
      "execution_count": 112,
      "outputs": [
        {
          "output_type": "stream",
          "name": "stderr",
          "text": [
            "WARNING:matplotlib.legend:No artists with labels found to put in legend.  Note that artists whose label start with an underscore are ignored when legend() is called with no argument.\n"
          ]
        },
        {
          "output_type": "stream",
          "name": "stdout",
          "text": [
            "explained_variance_score: 0.314443520\n",
            "max_error: 0.776550359\n",
            "mean_squared_error: 0.042881803\n",
            "mean_absolute_error: 0.132106046\n",
            "coefficient of determination: 0.300537618974528\n"
          ]
        },
        {
          "output_type": "stream",
          "name": "stderr",
          "text": [
            "WARNING:matplotlib.legend:No artists with labels found to put in legend.  Note that artists whose label start with an underscore are ignored when legend() is called with no argument.\n"
          ]
        },
        {
          "output_type": "display_data",
          "data": {
            "text/plain": [
              "<Figure size 640x480 with 2 Axes>"
            ],
            "image/png": "[encoded data removed]"
          },
          "metadata": {}
        }
      ],
      "source": [
        "reg = RandomForestRegressor(n_estimators=1000)\n",
        "reg.fit(X_train, y_train)\n",
        "preds = reg.predict(X_test)\n",
        "quality_metrics(y_test, preds)\n",
        "r_sq = reg.score(X_test, y_test)\n",
        "print('coefficient of determination:', r_sq)\n",
        "# graph('loading_sizes', 'group', 'mas')"
      ],
      "metadata": {
        "colab": {
          "base_uri": "https://localhost:8080/",
          "height": 450
        },
        "id": "faWmB4dgFnVd",
        "outputId": "77b7bf4c-3173-4eab-cd8c-d67e7dd5ded3"
      }
    },
    {
      "cell_type": "markdown",
      "source": [
        "коэф детерминации низкий у всех моделей, следует поработь с параметрами модели и предобработать признаки"
      ],
      "metadata": {
        "collapsed": false,
        "id": "QQuEwlc6FnVe"
      }
    },
    {
      "cell_type": "code",
      "execution_count": 113,
      "outputs": [],
      "source": [
        "import xgboost as xb"
      ],
      "metadata": {
        "id": "Cj2baWB0FnVe"
      }
    },
    {
      "cell_type": "code",
      "execution_count": 114,
      "outputs": [],
      "source": [
        "params = {\n",
        "    \"objective\": \"reg:squarederror\",\n",
        "    \"n_estimators\":100,\n",
        "    \"max_depth\": 4,\n",
        "    \"learning_rate\": 0.01,\n",
        "    \"subsample\": 0.8,\n",
        "    \"colsample_bytree\": 0.9,\n",
        "    \"colsample_bylevel\": 0.8,\n",
        "    \"reg_lambda\": 0.1,\n",
        "    \"eval_metric\": \"rmse\",\n",
        "    \"random_state\": 42,\n",
        "}"
      ],
      "metadata": {
        "id": "24nVu9hfFnVf"
      }
    },
    {
      "cell_type": "code",
      "execution_count": 115,
      "outputs": [],
      "source": [
        "reg = xb.XGBRegressor()"
      ],
      "metadata": {
        "id": "HESmjLj9FnVf"
      }
    },
    {
      "cell_type": "code",
      "execution_count": 116,
      "outputs": [
        {
          "output_type": "stream",
          "name": "stderr",
          "text": [
            "/usr/local/lib/python3.10/dist-packages/xgboost/sklearn.py:835: UserWarning: `early_stopping_rounds` in `fit` method is deprecated for better compatibility with scikit-learn, use `early_stopping_rounds` in constructor or`set_params` instead.\n",
            "  warnings.warn(\n"
          ]
        },
        {
          "output_type": "execute_result",
          "data": {
            "text/plain": [
              "XGBRegressor(base_score=None, booster=None, callbacks=None,\n",
              "             colsample_bylevel=None, colsample_bynode=None,\n",
              "             colsample_bytree=None, early_stopping_rounds=None,\n",
              "             enable_categorical=False, eval_metric=None, feature_types=None,\n",
              "             gamma=None, gpu_id=None, grow_policy=None, importance_type=None,\n",
              "             interaction_constraints=None, learning_rate=None, max_bin=None,\n",
              "             max_cat_threshold=None, max_cat_to_onehot=None,\n",
              "             max_delta_step=None, max_depth=None, max_leaves=None,\n",
              "             min_child_weight=None, missing=nan, monotone_constraints=None,\n",
              "             n_estimators=100, n_jobs=None, num_parallel_tree=None,\n",
              "             predictor=None, random_state=None, ...)"
            ],
            "text/html": [
              "<style>#sk-container-id-5 {color: black;background-color: white;}#sk-container-id-5 pre{padding: 0;}#sk-container-id-5 div.sk-toggleable {background-color: white;}#sk-container-id-5 label.sk-toggleable__label {cursor: pointer;display: block;width: 100%;margin-bottom: 0;padding: 0.3em;box-sizing: border-box;text-align: center;}#sk-container-id-5 label.sk-toggleable__label-arrow:before {content: \"▸\";float: left;margin-right: 0.25em;color: #696969;}#sk-container-id-5 label.sk-toggleable__label-arrow:hover:before {color: black;}#sk-container-id-5 div.sk-estimator:hover label.sk-toggleable__label-arrow:before {color: black;}#sk-container-id-5 div.sk-toggleable__content {max-height: 0;max-width: 0;overflow: hidden;text-align: left;background-color: #f0f8ff;}#sk-container-id-5 div.sk-toggleable__content pre {margin: 0.2em;color: black;border-radius: 0.25em;background-color: #f0f8ff;}#sk-container-id-5 input.sk-toggleable__control:checked~div.sk-toggleable__content {max-height: 200px;max-width: 100%;overflow: auto;}#sk-container-id-5 input.sk-toggleable__control:checked~label.sk-toggleable__label-arrow:before {content: \"▾\";}#sk-container-id-5 div.sk-estimator input.sk-toggleable__control:checked~label.sk-toggleable__label {background-color: #d4ebff;}#sk-container-id-5 div.sk-label input.sk-toggleable__control:checked~label.sk-toggleable__label {background-color: #d4ebff;}#sk-container-id-5 input.sk-hidden--visually {border: 0;clip: rect(1px 1px 1px 1px);clip: rect(1px, 1px, 1px, 1px);height: 1px;margin: -1px;overflow: hidden;padding: 0;position: absolute;width: 1px;}#sk-container-id-5 div.sk-estimator {font-family: monospace;background-color: #f0f8ff;border: 1px dotted black;border-radius: 0.25em;box-sizing: border-box;margin-bottom: 0.5em;}#sk-container-id-5 div.sk-estimator:hover {background-color: #d4ebff;}#sk-container-id-5 div.sk-parallel-item::after {content: \"\";width: 100%;border-bottom: 1px solid gray;flex-grow: 1;}#sk-container-id-5 div.sk-label:hover label.sk-toggleable__label {background-color: #d4ebff;}#sk-container-id-5 div.sk-serial::before {content: \"\";position: absolute;border-left: 1px solid gray;box-sizing: border-box;top: 0;bottom: 0;left: 50%;z-index: 0;}#sk-container-id-5 div.sk-serial {display: flex;flex-direction: column;align-items: center;background-color: white;padding-right: 0.2em;padding-left: 0.2em;position: relative;}#sk-container-id-5 div.sk-item {position: relative;z-index: 1;}#sk-container-id-5 div.sk-parallel {display: flex;align-items: stretch;justify-content: center;background-color: white;position: relative;}#sk-container-id-5 div.sk-item::before, #sk-container-id-5 div.sk-parallel-item::before {content: \"\";position: absolute;border-left: 1px solid gray;box-sizing: border-box;top: 0;bottom: 0;left: 50%;z-index: -1;}#sk-container-id-5 div.sk-parallel-item {display: flex;flex-direction: column;z-index: 1;position: relative;background-color: white;}#sk-container-id-5 div.sk-parallel-item:first-child::after {align-self: flex-end;width: 50%;}#sk-container-id-5 div.sk-parallel-item:last-child::after {align-self: flex-start;width: 50%;}#sk-container-id-5 div.sk-parallel-item:only-child::after {width: 0;}#sk-container-id-5 div.sk-dashed-wrapped {border: 1px dashed gray;margin: 0 0.4em 0.5em 0.4em;box-sizing: border-box;padding-bottom: 0.4em;background-color: white;}#sk-container-id-5 div.sk-label label {font-family: monospace;font-weight: bold;display: inline-block;line-height: 1.2em;}#sk-container-id-5 div.sk-label-container {text-align: center;}#sk-container-id-5 div.sk-container {/* jupyter's `normalize.less` sets `[hidden] { display: none; }` but bootstrap.min.css set `[hidden] { display: none !important; }` so we also need the `!important` here to be able to override the default hidden behavior on the sphinx rendered scikit-learn.org. See: https://github.com/scikit-learn/scikit-learn/issues/21755 */display: inline-block !important;position: relative;}#sk-container-id-5 div.sk-text-repr-fallback {display: none;}</style><div id=\"sk-container-id-5\" class=\"sk-top-container\"><div class=\"sk-text-repr-fallback\"><pre>XGBRegressor(base_score=None, booster=None, callbacks=None,\n",
              "             colsample_bylevel=None, colsample_bynode=None,\n",
              "             colsample_bytree=None, early_stopping_rounds=None,\n",
              "             enable_categorical=False, eval_metric=None, feature_types=None,\n",
              "             gamma=None, gpu_id=None, grow_policy=None, importance_type=None,\n",
              "             interaction_constraints=None, learning_rate=None, max_bin=None,\n",
              "             max_cat_threshold=None, max_cat_to_onehot=None,\n",
              "             max_delta_step=None, max_depth=None, max_leaves=None,\n",
              "             min_child_weight=None, missing=nan, monotone_constraints=None,\n",
              "             n_estimators=100, n_jobs=None, num_parallel_tree=None,\n",
              "             predictor=None, random_state=None, ...)</pre><b>In a Jupyter environment, please rerun this cell to show the HTML representation or trust the notebook. <br />On GitHub, the HTML representation is unable to render, please try loading this page with nbviewer.org.</b></div><div class=\"sk-container\" hidden><div class=\"sk-item\"><div class=\"sk-estimator sk-toggleable\"><input class=\"sk-toggleable__control sk-hidden--visually\" id=\"sk-estimator-id-5\" type=\"checkbox\" checked><label for=\"sk-estimator-id-5\" class=\"sk-toggleable__label sk-toggleable__label-arrow\">XGBRegressor</label><div class=\"sk-toggleable__content\"><pre>XGBRegressor(base_score=None, booster=None, callbacks=None,\n",
              "             colsample_bylevel=None, colsample_bynode=None,\n",
              "             colsample_bytree=None, early_stopping_rounds=None,\n",
              "             enable_categorical=False, eval_metric=None, feature_types=None,\n",
              "             gamma=None, gpu_id=None, grow_policy=None, importance_type=None,\n",
              "             interaction_constraints=None, learning_rate=None, max_bin=None,\n",
              "             max_cat_threshold=None, max_cat_to_onehot=None,\n",
              "             max_delta_step=None, max_depth=None, max_leaves=None,\n",
              "             min_child_weight=None, missing=nan, monotone_constraints=None,\n",
              "             n_estimators=100, n_jobs=None, num_parallel_tree=None,\n",
              "             predictor=None, random_state=None, ...)</pre></div></div></div></div></div>"
            ]
          },
          "metadata": {},
          "execution_count": 116
        }
      ],
      "source": [
        "reg.fit(X_train,\n",
        "        y_train,\n",
        "        verbose=False,\n",
        "        eval_set= [(X_train, y_train), (X_test, y_test)],\n",
        "        early_stopping_rounds= 0.1\n",
        "        )"
      ],
      "metadata": {
        "colab": {
          "base_uri": "https://localhost:8080/",
          "height": 304
        },
        "id": "piBG3lR2FnVf",
        "outputId": "dbe3f094-9c3b-4e50-b14c-ef102c05e1b7"
      }
    },
    {
      "cell_type": "code",
      "execution_count": 117,
      "outputs": [],
      "source": [
        "results = reg.evals_result()"
      ],
      "metadata": {
        "id": "UD6XmL71FnVf"
      }
    },
    {
      "cell_type": "code",
      "execution_count": 118,
      "outputs": [
        {
          "output_type": "stream",
          "name": "stdout",
          "text": [
            "Determination: 0.4572506972841134\n"
          ]
        }
      ],
      "source": [
        "print(f'Determination: {reg.score(X_train, y_train, sample_weight=None)}')"
      ],
      "metadata": {
        "colab": {
          "base_uri": "https://localhost:8080/"
        },
        "id": "-5hugzRWFnVg",
        "outputId": "5c86e6ce-c7b5-4905-b7b8-87c223d1582e"
      }
    },
    {
      "cell_type": "code",
      "execution_count": 119,
      "outputs": [
        {
          "output_type": "stream",
          "name": "stdout",
          "text": [
            "Determination: 0.2778550432968404\n"
          ]
        }
      ],
      "source": [
        "print(f'Determination: {reg.score(X_test, y_test, sample_weight=None)}')"
      ],
      "metadata": {
        "colab": {
          "base_uri": "https://localhost:8080/"
        },
        "id": "bjVDt8ajFnVg",
        "outputId": "8408add3-264e-4e8f-a7af-14616bf6b07b"
      }
    },
    {
      "cell_type": "markdown",
      "source": [
        "RMSE - mean_squared_error"
      ],
      "metadata": {
        "collapsed": false,
        "id": "1Elk1_IIFnVg"
      }
    },
    {
      "cell_type": "code",
      "execution_count": 120,
      "outputs": [
        {
          "output_type": "execute_result",
          "data": {
            "text/plain": [
              "0.2105604486178035"
            ]
          },
          "metadata": {},
          "execution_count": 120
        }
      ],
      "source": [
        "results['validation_1']['rmse'][-1]"
      ],
      "metadata": {
        "colab": {
          "base_uri": "https://localhost:8080/"
        },
        "id": "913UfgGnFnVg",
        "outputId": "9b9eb69a-6dfe-4dcf-a54c-40f0af91fba6"
      }
    },
    {
      "cell_type": "markdown",
      "source": [
        "validation_1 -  3 выборка,"
      ],
      "metadata": {
        "id": "HYLCagtBG0NJ"
      }
    },
    {
      "cell_type": "code",
      "execution_count": 121,
      "outputs": [
        {
          "output_type": "execute_result",
          "data": {
            "text/plain": [
              "4"
            ]
          },
          "metadata": {},
          "execution_count": 121
        }
      ],
      "source": [
        "best_iter = reg.best_iteration\n",
        "best_iter"
      ],
      "metadata": {
        "colab": {
          "base_uri": "https://localhost:8080/"
        },
        "id": "MOIfzxOcFnVh",
        "outputId": "faf82c69-16b5-4283-9ed2-8aee820cd2fd"
      }
    },
    {
      "cell_type": "code",
      "execution_count": 122,
      "outputs": [
        {
          "output_type": "execute_result",
          "data": {
            "text/plain": [
              "0.210410072699963"
            ]
          },
          "metadata": {},
          "execution_count": 122
        }
      ],
      "source": [
        "results['validation_1']['rmse'][best_iter]"
      ],
      "metadata": {
        "colab": {
          "base_uri": "https://localhost:8080/"
        },
        "id": "dDVgV_neFnVh",
        "outputId": "f185dd30-3a5f-4ff4-cc83-b22a549fd938"
      }
    },
    {
      "cell_type": "markdown",
      "source": [
        "MSE"
      ],
      "metadata": {
        "collapsed": false,
        "id": "Oh9v1aHHFnVh"
      }
    },
    {
      "cell_type": "code",
      "execution_count": 123,
      "outputs": [
        {
          "output_type": "execute_result",
          "data": {
            "text/plain": [
              "0.2104100727327081"
            ]
          },
          "metadata": {},
          "execution_count": 123
        }
      ],
      "source": [
        "y_pred = reg.predict(X_test)\n",
        "\n",
        "mean_squared_error(y_test, y_pred, squared = False)"
      ],
      "metadata": {
        "colab": {
          "base_uri": "https://localhost:8080/"
        },
        "id": "UUUpLQoMFnVh",
        "outputId": "772008b9-ed02-463a-a677-091f1af76e1e"
      }
    },
    {
      "cell_type": "markdown",
      "source": [
        "RMSE during training"
      ],
      "metadata": {
        "collapsed": false,
        "id": "Ty9Uyh0DFnVh"
      }
    },
    {
      "cell_type": "code",
      "execution_count": 124,
      "outputs": [
        {
          "output_type": "display_data",
          "data": {
            "text/plain": [
              "<Figure size 640x480 with 1 Axes>"
            ],
            "image/png": "[encoded data removed]"
          },
          "metadata": {}
        }
      ],
      "source": [
        "epochs = len(results['validation_0']['rmse'])\n",
        "x_axis = range(0, epochs)\n",
        "\n",
        "fig, ax = plt.subplots()\n",
        "\n",
        "ax.plot(x_axis, results['validation_0']['rmse'], label='Train')\n",
        "ax.plot(x_axis, results['validation_1']['rmse'], label='Test')\n",
        "\n",
        "plt.title('XGBoost RMSE')\n",
        "plt.xlabel(\"Boosting Iterations\")\n",
        "plt.ylabel(\"RMSE Deviance\")\n",
        "plt.legend(loc=\"upper right\");"
      ],
      "metadata": {
        "colab": {
          "base_uri": "https://localhost:8080/",
          "height": 472
        },
        "id": "yprpN9c5FnVi",
        "outputId": "39637c5e-9b8d-4575-edae-e567f3a8db0e"
      }
    },
    {
      "cell_type": "markdown",
      "source": [
        "Feature Importance"
      ],
      "metadata": {
        "collapsed": false,
        "id": "YzpxqPNTFnVi"
      }
    },
    {
      "cell_type": "code",
      "execution_count": 125,
      "outputs": [
        {
          "output_type": "execute_result",
          "data": {
            "text/plain": [
              "array([0.696306, 0.      , 0.303694], dtype=float32)"
            ]
          },
          "metadata": {},
          "execution_count": 125
        }
      ],
      "source": [
        "reg.feature_importances_"
      ],
      "metadata": {
        "colab": {
          "base_uri": "https://localhost:8080/"
        },
        "id": "7NcKrF8IFnVk",
        "outputId": "b8a4607a-9377-4d35-dada-9a1514afb9d2"
      }
    },
    {
      "cell_type": "code",
      "execution_count": 126,
      "outputs": [
        {
          "output_type": "display_data",
          "data": {
            "text/plain": [
              "<Figure size 640x480 with 1 Axes>"
            ],
            "image/png": "[encoded data removed]"
          },
          "metadata": {}
        }
      ],
      "source": [
        "xb.plot_importance(reg,\n",
        "                    importance_type=\"gain\",\n",
        "                    show_values=False,\n",
        "                    xlabel=\"Gain\");"
      ],
      "metadata": {
        "colab": {
          "base_uri": "https://localhost:8080/",
          "height": 472
        },
        "id": "0UAj_J6PFnVk",
        "outputId": "830643d2-7489-4778-becb-513d2e634c94"
      }
    },
    {
      "cell_type": "markdown",
      "source": [
        "Странно почему нет групп, ведь корреляция сильная была"
      ],
      "metadata": {
        "collapsed": false,
        "id": "B7VioyENFnVk"
      }
    },
    {
      "cell_type": "markdown",
      "source": [
        "Модели все не оч, но буст дал лучший результат. нужно поиграться с параметрами в моделях random/grid searchcv и найти лучшие. столб с группой лучше следует привести к бинарному виду (one hot coding),но тогда признаки увеличатся по числу значений в столбе группы, либо также нормализовать. он категориальный, а регрессия не очень хорошо работает с категориальными, хотя случайнsq лес нормально, как и буст."
      ],
      "metadata": {
        "collapsed": false,
        "id": "3LnSleQaFnVl"
      }
    },
    {
      "cell_type": "markdown",
      "source": [
        "One hot encoding"
      ],
      "metadata": {
        "id": "qUMrKMs23X5m"
      }
    },
    {
      "cell_type": "code",
      "source": [
        "from sklearn.preprocessing import OneHotEncoder"
      ],
      "metadata": {
        "id": "IesLSV_V8krm"
      },
      "execution_count": 127,
      "outputs": []
    },
    {
      "cell_type": "code",
      "source": [
        "encoder = OneHotEncoder()\n",
        "groups_2d = df['group'].values.reshape(-1, 1)\n",
        "onehot_encoded = encoder.fit_transform(groups_2d)\n",
        "\n",
        "# Convert the sparse matrix result to a DataFrame\n",
        "onehot_encoded_df = pd.DataFrame(onehot_encoded.toarray(), columns=encoder.get_feature_names_out(['group']))\n",
        "\n",
        "# Concatenate the one-hot encoded DataFrame with the original DataFrame\n",
        "df_encoded = pd.concat([df, onehot_encoded_df], axis=1)\n",
        "\n",
        "# Drop the original 'group' column\n",
        "df_encoded.drop(columns=['group'], inplace=True)"
      ],
      "metadata": {
        "id": "EGVyywvO8gxe"
      },
      "execution_count": 128,
      "outputs": []
    },
    {
      "cell_type": "code",
      "source": [
        "df_encoded.head()"
      ],
      "metadata": {
        "colab": {
          "base_uri": "https://localhost:8080/",
          "height": 206
        },
        "id": "SoYiabpD9D8e",
        "outputId": "23cba9c8-a017-466d-9280-c2eff7da940c"
      },
      "execution_count": 129,
      "outputs": [
        {
          "output_type": "execute_result",
          "data": {
            "text/plain": [
              "   density_percents  loading_sizes       mas  group_0.0  group_0.5  group_1.0\n",
              "0          0.569707       0.621971  0.000039        0.0        1.0        0.0\n",
              "1          0.601055       0.448884  0.009958        1.0        0.0        0.0\n",
              "2          0.595685       0.628143  0.000007        0.0        1.0        0.0\n",
              "3          0.707307       0.690030  0.000010        0.0        1.0        0.0\n",
              "4          0.537850       0.471281  0.000000        1.0        0.0        0.0"
            ],
            "text/html": [
              "\n",
              "\n",
              "  <div id=\"df-0fa24102-e6a3-466f-859d-d50a4c948d02\">\n",
              "    <div class=\"colab-df-container\">\n",
              "      <div>\n",
              "<style scoped>\n",
              "    .dataframe tbody tr th:only-of-type {\n",
              "        vertical-align: middle;\n",
              "    }\n",
              "\n",
              "    .dataframe tbody tr th {\n",
              "        vertical-align: top;\n",
              "    }\n",
              "\n",
              "    .dataframe thead th {\n",
              "        text-align: right;\n",
              "    }\n",
              "</style>\n",
              "<table border=\"1\" class=\"dataframe\">\n",
              "  <thead>\n",
              "    <tr style=\"text-align: right;\">\n",
              "      <th></th>\n",
              "      <th>density_percents</th>\n",
              "      <th>loading_sizes</th>\n",
              "      <th>mas</th>\n",
              "      <th>group_0.0</th>\n",
              "      <th>group_0.5</th>\n",
              "      <th>group_1.0</th>\n",
              "    </tr>\n",
              "  </thead>\n",
              "  <tbody>\n",
              "    <tr>\n",
              "      <th>0</th>\n",
              "      <td>0.569707</td>\n",
              "      <td>0.621971</td>\n",
              "      <td>0.000039</td>\n",
              "      <td>0.0</td>\n",
              "      <td>1.0</td>\n",
              "      <td>0.0</td>\n",
              "    </tr>\n",
              "    <tr>\n",
              "      <th>1</th>\n",
              "      <td>0.601055</td>\n",
              "      <td>0.448884</td>\n",
              "      <td>0.009958</td>\n",
              "      <td>1.0</td>\n",
              "      <td>0.0</td>\n",
              "      <td>0.0</td>\n",
              "    </tr>\n",
              "    <tr>\n",
              "      <th>2</th>\n",
              "      <td>0.595685</td>\n",
              "      <td>0.628143</td>\n",
              "      <td>0.000007</td>\n",
              "      <td>0.0</td>\n",
              "      <td>1.0</td>\n",
              "      <td>0.0</td>\n",
              "    </tr>\n",
              "    <tr>\n",
              "      <th>3</th>\n",
              "      <td>0.707307</td>\n",
              "      <td>0.690030</td>\n",
              "      <td>0.000010</td>\n",
              "      <td>0.0</td>\n",
              "      <td>1.0</td>\n",
              "      <td>0.0</td>\n",
              "    </tr>\n",
              "    <tr>\n",
              "      <th>4</th>\n",
              "      <td>0.537850</td>\n",
              "      <td>0.471281</td>\n",
              "      <td>0.000000</td>\n",
              "      <td>1.0</td>\n",
              "      <td>0.0</td>\n",
              "      <td>0.0</td>\n",
              "    </tr>\n",
              "  </tbody>\n",
              "</table>\n",
              "</div>\n",
              "      <button class=\"colab-df-convert\" onclick=\"convertToInteractive('df-0fa24102-e6a3-466f-859d-d50a4c948d02')\"\n",
              "              title=\"Convert this dataframe to an interactive table.\"\n",
              "              style=\"display:none;\">\n",
              "\n",
              "  <svg xmlns=\"http://www.w3.org/2000/svg\" height=\"24px\"viewBox=\"0 0 24 24\"\n",
              "       width=\"24px\">\n",
              "    <path d=\"M0 0h24v24H0V0z\" fill=\"none\"/>\n",
              "    <path d=\"M18.56 5.44l.94 2.06.94-2.06 2.06-.94-2.06-.94-.94-2.06-.94 2.06-2.06.94zm-11 1L8.5 8.5l.94-2.06 2.06-.94-2.06-.94L8.5 2.5l-.94 2.06-2.06.94zm10 10l.94 2.06.94-2.06 2.06-.94-2.06-.94-.94-2.06-.94 2.06-2.06.94z\"/><path d=\"M17.41 7.96l-1.37-1.37c-.4-.4-.92-.59-1.43-.59-.52 0-1.04.2-1.43.59L10.3 9.45l-7.72 7.72c-.78.78-.78 2.05 0 2.83L4 21.41c.39.39.9.59 1.41.59.51 0 1.02-.2 1.41-.59l7.78-7.78 2.81-2.81c.8-.78.8-2.07 0-2.86zM5.41 20L4 18.59l7.72-7.72 1.47 1.35L5.41 20z\"/>\n",
              "  </svg>\n",
              "      </button>\n",
              "\n",
              "\n",
              "\n",
              "    <div id=\"df-dd1fe3f6-2383-41e0-a7dc-98ba36555862\">\n",
              "      <button class=\"colab-df-quickchart\" onclick=\"quickchart('df-dd1fe3f6-2383-41e0-a7dc-98ba36555862')\"\n",
              "              title=\"Suggest charts.\"\n",
              "              style=\"display:none;\">\n",
              "\n",
              "<svg xmlns=\"http://www.w3.org/2000/svg\" height=\"24px\"viewBox=\"0 0 24 24\"\n",
              "     width=\"24px\">\n",
              "    <g>\n",
              "        <path d=\"M19 3H5c-1.1 0-2 .9-2 2v14c0 1.1.9 2 2 2h14c1.1 0 2-.9 2-2V5c0-1.1-.9-2-2-2zM9 17H7v-7h2v7zm4 0h-2V7h2v10zm4 0h-2v-4h2v4z\"/>\n",
              "    </g>\n",
              "</svg>\n",
              "      </button>\n",
              "    </div>\n",
              "\n",
              "<style>\n",
              "  .colab-df-quickchart {\n",
              "    background-color: #E8F0FE;\n",
              "    border: none;\n",
              "    border-radius: 50%;\n",
              "    cursor: pointer;\n",
              "    display: none;\n",
              "    fill: #1967D2;\n",
              "    height: 32px;\n",
              "    padding: 0 0 0 0;\n",
              "    width: 32px;\n",
              "  }\n",
              "\n",
              "  .colab-df-quickchart:hover {\n",
              "    background-color: #E2EBFA;\n",
              "    box-shadow: 0px 1px 2px rgba(60, 64, 67, 0.3), 0px 1px 3px 1px rgba(60, 64, 67, 0.15);\n",
              "    fill: #174EA6;\n",
              "  }\n",
              "\n",
              "  [theme=dark] .colab-df-quickchart {\n",
              "    background-color: #3B4455;\n",
              "    fill: #D2E3FC;\n",
              "  }\n",
              "\n",
              "  [theme=dark] .colab-df-quickchart:hover {\n",
              "    background-color: #434B5C;\n",
              "    box-shadow: 0px 1px 3px 1px rgba(0, 0, 0, 0.15);\n",
              "    filter: drop-shadow(0px 1px 2px rgba(0, 0, 0, 0.3));\n",
              "    fill: #FFFFFF;\n",
              "  }\n",
              "</style>\n",
              "\n",
              "    <script>\n",
              "      async function quickchart(key) {\n",
              "        const containerElement = document.querySelector('#' + key);\n",
              "        const charts = await google.colab.kernel.invokeFunction(\n",
              "            'suggestCharts', [key], {});\n",
              "      }\n",
              "    </script>\n",
              "\n",
              "      <script>\n",
              "\n",
              "function displayQuickchartButton(domScope) {\n",
              "  let quickchartButtonEl =\n",
              "    domScope.querySelector('#df-dd1fe3f6-2383-41e0-a7dc-98ba36555862 button.colab-df-quickchart');\n",
              "  quickchartButtonEl.style.display =\n",
              "    google.colab.kernel.accessAllowed ? 'block' : 'none';\n",
              "}\n",
              "\n",
              "        displayQuickchartButton(document);\n",
              "      </script>\n",
              "      <style>\n",
              "    .colab-df-container {\n",
              "      display:flex;\n",
              "      flex-wrap:wrap;\n",
              "      gap: 12px;\n",
              "    }\n",
              "\n",
              "    .colab-df-convert {\n",
              "      background-color: #E8F0FE;\n",
              "      border: none;\n",
              "      border-radius: 50%;\n",
              "      cursor: pointer;\n",
              "      display: none;\n",
              "      fill: #1967D2;\n",
              "      height: 32px;\n",
              "      padding: 0 0 0 0;\n",
              "      width: 32px;\n",
              "    }\n",
              "\n",
              "    .colab-df-convert:hover {\n",
              "      background-color: #E2EBFA;\n",
              "      box-shadow: 0px 1px 2px rgba(60, 64, 67, 0.3), 0px 1px 3px 1px rgba(60, 64, 67, 0.15);\n",
              "      fill: #174EA6;\n",
              "    }\n",
              "\n",
              "    [theme=dark] .colab-df-convert {\n",
              "      background-color: #3B4455;\n",
              "      fill: #D2E3FC;\n",
              "    }\n",
              "\n",
              "    [theme=dark] .colab-df-convert:hover {\n",
              "      background-color: #434B5C;\n",
              "      box-shadow: 0px 1px 3px 1px rgba(0, 0, 0, 0.15);\n",
              "      filter: drop-shadow(0px 1px 2px rgba(0, 0, 0, 0.3));\n",
              "      fill: #FFFFFF;\n",
              "    }\n",
              "  </style>\n",
              "\n",
              "      <script>\n",
              "        const buttonEl =\n",
              "          document.querySelector('#df-0fa24102-e6a3-466f-859d-d50a4c948d02 button.colab-df-convert');\n",
              "        buttonEl.style.display =\n",
              "          google.colab.kernel.accessAllowed ? 'block' : 'none';\n",
              "\n",
              "        async function convertToInteractive(key) {\n",
              "          const element = document.querySelector('#df-0fa24102-e6a3-466f-859d-d50a4c948d02');\n",
              "          const dataTable =\n",
              "            await google.colab.kernel.invokeFunction('convertToInteractive',\n",
              "                                                     [key], {});\n",
              "          if (!dataTable) return;\n",
              "\n",
              "          const docLinkHtml = 'Like what you see? Visit the ' +\n",
              "            '<a target=\"_blank\" href=https://colab.research.google.com/notebooks/data_table.ipynb>data table notebook</a>'\n",
              "            + ' to learn more about interactive tables.';\n",
              "          element.innerHTML = '';\n",
              "          dataTable['output_type'] = 'display_data';\n",
              "          await google.colab.output.renderOutput(dataTable, element);\n",
              "          const docLink = document.createElement('div');\n",
              "          docLink.innerHTML = docLinkHtml;\n",
              "          element.appendChild(docLink);\n",
              "        }\n",
              "      </script>\n",
              "    </div>\n",
              "  </div>\n"
            ]
          },
          "metadata": {},
          "execution_count": 129
        }
      ]
    },
    {
      "cell_type": "code",
      "source": [
        "X_train, X_test, y_train, y_test = train_test_split(\n",
        "    df.drop(columns=['density_percents']), df['density_percents'], test_size=0.2, random_state=123)"
      ],
      "metadata": {
        "id": "PSObgK0x9i73"
      },
      "execution_count": 130,
      "outputs": []
    },
    {
      "cell_type": "code",
      "source": [
        "reg = RandomForestRegressor(n_estimators=1000)\n",
        "reg.fit(X_train, y_train)\n",
        "preds = reg.predict(X_test)\n",
        "quality_metrics(y_test, preds)\n",
        "r_sq = reg.score(X_test, y_test)\n",
        "print('coefficient of determination:', r_sq)"
      ],
      "metadata": {
        "colab": {
          "base_uri": "https://localhost:8080/"
        },
        "id": "LBaRx_kj9UkW",
        "outputId": "1d726082-3e04-4f5c-c1cd-e19929a5d9bf"
      },
      "execution_count": 131,
      "outputs": [
        {
          "output_type": "stream",
          "name": "stdout",
          "text": [
            "explained_variance_score: 0.324234798\n",
            "max_error: 0.767693854\n",
            "mean_squared_error: 0.042290920\n",
            "mean_absolute_error: 0.130933720\n",
            "coefficient of determination: 0.31017573697200385\n"
          ]
        }
      ]
    },
    {
      "cell_type": "code",
      "source": [
        "# reg.predict(dfin)"
      ],
      "metadata": {
        "id": "OEWOrcbCI03a"
      },
      "execution_count": 132,
      "outputs": []
    },
    {
      "cell_type": "markdown",
      "source": [
        "Чуть больше стал score"
      ],
      "metadata": {
        "id": "_bIzZP5O9tmU"
      }
    },
    {
      "cell_type": "code",
      "source": [
        "params = {\n",
        "    \"objective\": \"reg:squarederror\",\n",
        "    \"n_estimators\":100,\n",
        "    \"max_depth\": 4,\n",
        "    \"learning_rate\": 0.01,\n",
        "    \"subsample\": 0.8,\n",
        "    \"colsample_bytree\": 0.9,\n",
        "    \"colsample_bylevel\": 0.8,\n",
        "    \"reg_lambda\": 0.1,\n",
        "    \"eval_metric\": \"rmse\",\n",
        "    \"random_state\": 42,\n",
        "}"
      ],
      "metadata": {
        "id": "T6LBaJtr-CfC"
      },
      "execution_count": 133,
      "outputs": []
    },
    {
      "cell_type": "code",
      "source": [
        "reg = xb.XGBRegressor()"
      ],
      "metadata": {
        "id": "BeBoqD-J98mb"
      },
      "execution_count": 134,
      "outputs": []
    },
    {
      "cell_type": "code",
      "source": [
        "reg.fit(X_train,\n",
        "        y_train,\n",
        "        verbose=False,\n",
        "        eval_set= [(X_train, y_train), (X_test, y_test)],\n",
        "        early_stopping_rounds= 0.1\n",
        "        )"
      ],
      "metadata": {
        "colab": {
          "base_uri": "https://localhost:8080/",
          "height": 304
        },
        "id": "ieQWKfDw96QC",
        "outputId": "aa9ecb69-a01e-4184-95af-90c53e4d25cd"
      },
      "execution_count": 135,
      "outputs": [
        {
          "output_type": "stream",
          "name": "stderr",
          "text": [
            "/usr/local/lib/python3.10/dist-packages/xgboost/sklearn.py:835: UserWarning: `early_stopping_rounds` in `fit` method is deprecated for better compatibility with scikit-learn, use `early_stopping_rounds` in constructor or`set_params` instead.\n",
            "  warnings.warn(\n"
          ]
        },
        {
          "output_type": "execute_result",
          "data": {
            "text/plain": [
              "XGBRegressor(base_score=None, booster=None, callbacks=None,\n",
              "             colsample_bylevel=None, colsample_bynode=None,\n",
              "             colsample_bytree=None, early_stopping_rounds=None,\n",
              "             enable_categorical=False, eval_metric=None, feature_types=None,\n",
              "             gamma=None, gpu_id=None, grow_policy=None, importance_type=None,\n",
              "             interaction_constraints=None, learning_rate=None, max_bin=None,\n",
              "             max_cat_threshold=None, max_cat_to_onehot=None,\n",
              "             max_delta_step=None, max_depth=None, max_leaves=None,\n",
              "             min_child_weight=None, missing=nan, monotone_constraints=None,\n",
              "             n_estimators=100, n_jobs=None, num_parallel_tree=None,\n",
              "             predictor=None, random_state=None, ...)"
            ],
            "text/html": [
              "<style>#sk-container-id-6 {color: black;background-color: white;}#sk-container-id-6 pre{padding: 0;}#sk-container-id-6 div.sk-toggleable {background-color: white;}#sk-container-id-6 label.sk-toggleable__label {cursor: pointer;display: block;width: 100%;margin-bottom: 0;padding: 0.3em;box-sizing: border-box;text-align: center;}#sk-container-id-6 label.sk-toggleable__label-arrow:before {content: \"▸\";float: left;margin-right: 0.25em;color: #696969;}#sk-container-id-6 label.sk-toggleable__label-arrow:hover:before {color: black;}#sk-container-id-6 div.sk-estimator:hover label.sk-toggleable__label-arrow:before {color: black;}#sk-container-id-6 div.sk-toggleable__content {max-height: 0;max-width: 0;overflow: hidden;text-align: left;background-color: #f0f8ff;}#sk-container-id-6 div.sk-toggleable__content pre {margin: 0.2em;color: black;border-radius: 0.25em;background-color: #f0f8ff;}#sk-container-id-6 input.sk-toggleable__control:checked~div.sk-toggleable__content {max-height: 200px;max-width: 100%;overflow: auto;}#sk-container-id-6 input.sk-toggleable__control:checked~label.sk-toggleable__label-arrow:before {content: \"▾\";}#sk-container-id-6 div.sk-estimator input.sk-toggleable__control:checked~label.sk-toggleable__label {background-color: #d4ebff;}#sk-container-id-6 div.sk-label input.sk-toggleable__control:checked~label.sk-toggleable__label {background-color: #d4ebff;}#sk-container-id-6 input.sk-hidden--visually {border: 0;clip: rect(1px 1px 1px 1px);clip: rect(1px, 1px, 1px, 1px);height: 1px;margin: -1px;overflow: hidden;padding: 0;position: absolute;width: 1px;}#sk-container-id-6 div.sk-estimator {font-family: monospace;background-color: #f0f8ff;border: 1px dotted black;border-radius: 0.25em;box-sizing: border-box;margin-bottom: 0.5em;}#sk-container-id-6 div.sk-estimator:hover {background-color: #d4ebff;}#sk-container-id-6 div.sk-parallel-item::after {content: \"\";width: 100%;border-bottom: 1px solid gray;flex-grow: 1;}#sk-container-id-6 div.sk-label:hover label.sk-toggleable__label {background-color: #d4ebff;}#sk-container-id-6 div.sk-serial::before {content: \"\";position: absolute;border-left: 1px solid gray;box-sizing: border-box;top: 0;bottom: 0;left: 50%;z-index: 0;}#sk-container-id-6 div.sk-serial {display: flex;flex-direction: column;align-items: center;background-color: white;padding-right: 0.2em;padding-left: 0.2em;position: relative;}#sk-container-id-6 div.sk-item {position: relative;z-index: 1;}#sk-container-id-6 div.sk-parallel {display: flex;align-items: stretch;justify-content: center;background-color: white;position: relative;}#sk-container-id-6 div.sk-item::before, #sk-container-id-6 div.sk-parallel-item::before {content: \"\";position: absolute;border-left: 1px solid gray;box-sizing: border-box;top: 0;bottom: 0;left: 50%;z-index: -1;}#sk-container-id-6 div.sk-parallel-item {display: flex;flex-direction: column;z-index: 1;position: relative;background-color: white;}#sk-container-id-6 div.sk-parallel-item:first-child::after {align-self: flex-end;width: 50%;}#sk-container-id-6 div.sk-parallel-item:last-child::after {align-self: flex-start;width: 50%;}#sk-container-id-6 div.sk-parallel-item:only-child::after {width: 0;}#sk-container-id-6 div.sk-dashed-wrapped {border: 1px dashed gray;margin: 0 0.4em 0.5em 0.4em;box-sizing: border-box;padding-bottom: 0.4em;background-color: white;}#sk-container-id-6 div.sk-label label {font-family: monospace;font-weight: bold;display: inline-block;line-height: 1.2em;}#sk-container-id-6 div.sk-label-container {text-align: center;}#sk-container-id-6 div.sk-container {/* jupyter's `normalize.less` sets `[hidden] { display: none; }` but bootstrap.min.css set `[hidden] { display: none !important; }` so we also need the `!important` here to be able to override the default hidden behavior on the sphinx rendered scikit-learn.org. See: https://github.com/scikit-learn/scikit-learn/issues/21755 */display: inline-block !important;position: relative;}#sk-container-id-6 div.sk-text-repr-fallback {display: none;}</style><div id=\"sk-container-id-6\" class=\"sk-top-container\"><div class=\"sk-text-repr-fallback\"><pre>XGBRegressor(base_score=None, booster=None, callbacks=None,\n",
              "             colsample_bylevel=None, colsample_bynode=None,\n",
              "             colsample_bytree=None, early_stopping_rounds=None,\n",
              "             enable_categorical=False, eval_metric=None, feature_types=None,\n",
              "             gamma=None, gpu_id=None, grow_policy=None, importance_type=None,\n",
              "             interaction_constraints=None, learning_rate=None, max_bin=None,\n",
              "             max_cat_threshold=None, max_cat_to_onehot=None,\n",
              "             max_delta_step=None, max_depth=None, max_leaves=None,\n",
              "             min_child_weight=None, missing=nan, monotone_constraints=None,\n",
              "             n_estimators=100, n_jobs=None, num_parallel_tree=None,\n",
              "             predictor=None, random_state=None, ...)</pre><b>In a Jupyter environment, please rerun this cell to show the HTML representation or trust the notebook. <br />On GitHub, the HTML representation is unable to render, please try loading this page with nbviewer.org.</b></div><div class=\"sk-container\" hidden><div class=\"sk-item\"><div class=\"sk-estimator sk-toggleable\"><input class=\"sk-toggleable__control sk-hidden--visually\" id=\"sk-estimator-id-6\" type=\"checkbox\" checked><label for=\"sk-estimator-id-6\" class=\"sk-toggleable__label sk-toggleable__label-arrow\">XGBRegressor</label><div class=\"sk-toggleable__content\"><pre>XGBRegressor(base_score=None, booster=None, callbacks=None,\n",
              "             colsample_bylevel=None, colsample_bynode=None,\n",
              "             colsample_bytree=None, early_stopping_rounds=None,\n",
              "             enable_categorical=False, eval_metric=None, feature_types=None,\n",
              "             gamma=None, gpu_id=None, grow_policy=None, importance_type=None,\n",
              "             interaction_constraints=None, learning_rate=None, max_bin=None,\n",
              "             max_cat_threshold=None, max_cat_to_onehot=None,\n",
              "             max_delta_step=None, max_depth=None, max_leaves=None,\n",
              "             min_child_weight=None, missing=nan, monotone_constraints=None,\n",
              "             n_estimators=100, n_jobs=None, num_parallel_tree=None,\n",
              "             predictor=None, random_state=None, ...)</pre></div></div></div></div></div>"
            ]
          },
          "metadata": {},
          "execution_count": 135
        }
      ]
    },
    {
      "cell_type": "code",
      "source": [
        "print(f'Determination: {reg.score(X_train, y_train, sample_weight=None)}')"
      ],
      "metadata": {
        "colab": {
          "base_uri": "https://localhost:8080/"
        },
        "id": "59d9CI6X99Sy",
        "outputId": "be157cce-ef30-44bb-f992-966bfd489a74"
      },
      "execution_count": 136,
      "outputs": [
        {
          "output_type": "stream",
          "name": "stdout",
          "text": [
            "Determination: 0.4572506972841134\n"
          ]
        }
      ]
    },
    {
      "cell_type": "code",
      "source": [
        "print(f'Determination: {reg.score(X_test, y_test, sample_weight=None)}')"
      ],
      "metadata": {
        "colab": {
          "base_uri": "https://localhost:8080/"
        },
        "id": "Wi2pmSbc-Luj",
        "outputId": "325cc24c-6f01-4bb8-abb3-a9a6ac2bb502"
      },
      "execution_count": 137,
      "outputs": [
        {
          "output_type": "stream",
          "name": "stdout",
          "text": [
            "Determination: 0.2778550432968404\n"
          ]
        }
      ]
    },
    {
      "cell_type": "markdown",
      "source": [
        "На тестовой стал лучше, на трейне чуть хуже."
      ],
      "metadata": {
        "id": "c0PKJhVH-TzE"
      }
    },
    {
      "cell_type": "code",
      "source": [
        "dfin = pd.read_csv('input.csv')\n"
      ],
      "metadata": {
        "id": "5cQikjoQqote"
      },
      "execution_count": 138,
      "outputs": []
    },
    {
      "cell_type": "code",
      "source": [
        "dfin.info()"
      ],
      "metadata": {
        "colab": {
          "base_uri": "https://localhost:8080/"
        },
        "id": "c8lq6S-fuiaE",
        "outputId": "9a67c3a9-1081-4486-e15f-6b1fb91e3d4b"
      },
      "execution_count": 139,
      "outputs": [
        {
          "output_type": "stream",
          "name": "stdout",
          "text": [
            "<class 'pandas.core.frame.DataFrame'>\n",
            "RangeIndex: 1 entries, 0 to 0\n",
            "Data columns (total 4 columns):\n",
            " #   Column            Non-Null Count  Dtype  \n",
            "---  ------            --------------  -----  \n",
            " 0   loading_sizes     1 non-null      float64\n",
            " 1   density_percents  1 non-null      object \n",
            " 2   group             1 non-null      object \n",
            " 3   mass              1 non-null      float64\n",
            "dtypes: float64(2), object(2)\n",
            "memory usage: 160.0+ bytes\n"
          ]
        }
      ]
    },
    {
      "cell_type": "code",
      "source": [
        "dfin.head"
      ],
      "metadata": {
        "colab": {
          "base_uri": "https://localhost:8080/"
        },
        "id": "j8rDxE50umNe",
        "outputId": "6e16da0d-162d-4fe7-dc93-3a5104a2dd6c"
      },
      "execution_count": 140,
      "outputs": [
        {
          "output_type": "execute_result",
          "data": {
            "text/plain": [
              "<bound method NDFrame.head of    loading_sizes density_percents            group  mass\n",
              "0         34.219  <class 'float'>  <class 'float'>  15.0>"
            ]
          },
          "metadata": {},
          "execution_count": 140
        }
      ]
    },
    {
      "cell_type": "code",
      "source": [
        "dfin['group'] = dfin['loading_sizes'].copy()\n"
      ],
      "metadata": {
        "id": "7bCMWt4CsQ2S"
      },
      "execution_count": 141,
      "outputs": []
    },
    {
      "cell_type": "code",
      "source": [
        "dfin.info()"
      ],
      "metadata": {
        "colab": {
          "base_uri": "https://localhost:8080/"
        },
        "id": "8CgoVLj1tF2w",
        "outputId": "da7f727e-28d2-4492-bed1-197dc55f3c0c"
      },
      "execution_count": 142,
      "outputs": [
        {
          "output_type": "stream",
          "name": "stdout",
          "text": [
            "<class 'pandas.core.frame.DataFrame'>\n",
            "RangeIndex: 1 entries, 0 to 0\n",
            "Data columns (total 4 columns):\n",
            " #   Column            Non-Null Count  Dtype  \n",
            "---  ------            --------------  -----  \n",
            " 0   loading_sizes     1 non-null      float64\n",
            " 1   density_percents  1 non-null      object \n",
            " 2   group             1 non-null      float64\n",
            " 3   mass              1 non-null      float64\n",
            "dtypes: float64(3), object(1)\n",
            "memory usage: 160.0+ bytes\n"
          ]
        }
      ]
    },
    {
      "cell_type": "code",
      "source": [
        "dfin.loc[(dfin['group'] >= 0) & (dfin['group'] < 50), 'group'] = 1\n",
        "dfin.loc[(dfin['group'] >= 50) & (dfin['group'] < 75), 'group'] = 2\n",
        "dfin.loc[(dfin['group'] >= 75) & (dfin['group'] <= 100), 'group'] = 3"
      ],
      "metadata": {
        "id": "-2h-lAbhsim1"
      },
      "execution_count": 143,
      "outputs": []
    },
    {
      "cell_type": "code",
      "source": [
        "dfin = dfin.drop(columns = ['density_percents'])"
      ],
      "metadata": {
        "id": "PAVCsHuDvIr3"
      },
      "execution_count": 144,
      "outputs": []
    },
    {
      "cell_type": "code",
      "source": [
        "dfin = dfin.rename(columns={\"mass\": \"mas\"})"
      ],
      "metadata": {
        "id": "yBMPE8VwC43d"
      },
      "execution_count": 145,
      "outputs": []
    },
    {
      "cell_type": "code",
      "source": [
        "preds_input = reg.predict(dfin)\n",
        "print(preds_input)"
      ],
      "metadata": {
        "colab": {
          "base_uri": "https://localhost:8080/"
        },
        "id": "h2Bj_-OaCUPl",
        "outputId": "6f002258-faeb-4687-dd9e-745d74241348"
      },
      "execution_count": 146,
      "outputs": [
        {
          "output_type": "stream",
          "name": "stdout",
          "text": [
            "[0.83339155]\n"
          ]
        }
      ]
    },
    {
      "cell_type": "code",
      "source": [
        "dfin\n"
      ],
      "metadata": {
        "colab": {
          "base_uri": "https://localhost:8080/",
          "height": 80
        },
        "id": "eLOnnaMgJ5cx",
        "outputId": "dfc5edac-e492-4ee9-a0bc-2f7e09bd7500"
      },
      "execution_count": 147,
      "outputs": [
        {
          "output_type": "execute_result",
          "data": {
            "text/plain": [
              "   loading_sizes  group   mas\n",
              "0         34.219    1.0  15.0"
            ],
            "text/html": [
              "\n",
              "\n",
              "  <div id=\"df-2d2c30e8-f0e9-4d2b-919f-60e536c2c1f4\">\n",
              "    <div class=\"colab-df-container\">\n",
              "      <div>\n",
              "<style scoped>\n",
              "    .dataframe tbody tr th:only-of-type {\n",
              "        vertical-align: middle;\n",
              "    }\n",
              "\n",
              "    .dataframe tbody tr th {\n",
              "        vertical-align: top;\n",
              "    }\n",
              "\n",
              "    .dataframe thead th {\n",
              "        text-align: right;\n",
              "    }\n",
              "</style>\n",
              "<table border=\"1\" class=\"dataframe\">\n",
              "  <thead>\n",
              "    <tr style=\"text-align: right;\">\n",
              "      <th></th>\n",
              "      <th>loading_sizes</th>\n",
              "      <th>group</th>\n",
              "      <th>mas</th>\n",
              "    </tr>\n",
              "  </thead>\n",
              "  <tbody>\n",
              "    <tr>\n",
              "      <th>0</th>\n",
              "      <td>34.219</td>\n",
              "      <td>1.0</td>\n",
              "      <td>15.0</td>\n",
              "    </tr>\n",
              "  </tbody>\n",
              "</table>\n",
              "</div>\n",
              "      <button class=\"colab-df-convert\" onclick=\"convertToInteractive('df-2d2c30e8-f0e9-4d2b-919f-60e536c2c1f4')\"\n",
              "              title=\"Convert this dataframe to an interactive table.\"\n",
              "              style=\"display:none;\">\n",
              "\n",
              "  <svg xmlns=\"http://www.w3.org/2000/svg\" height=\"24px\"viewBox=\"0 0 24 24\"\n",
              "       width=\"24px\">\n",
              "    <path d=\"M0 0h24v24H0V0z\" fill=\"none\"/>\n",
              "    <path d=\"M18.56 5.44l.94 2.06.94-2.06 2.06-.94-2.06-.94-.94-2.06-.94 2.06-2.06.94zm-11 1L8.5 8.5l.94-2.06 2.06-.94-2.06-.94L8.5 2.5l-.94 2.06-2.06.94zm10 10l.94 2.06.94-2.06 2.06-.94-2.06-.94-.94-2.06-.94 2.06-2.06.94z\"/><path d=\"M17.41 7.96l-1.37-1.37c-.4-.4-.92-.59-1.43-.59-.52 0-1.04.2-1.43.59L10.3 9.45l-7.72 7.72c-.78.78-.78 2.05 0 2.83L4 21.41c.39.39.9.59 1.41.59.51 0 1.02-.2 1.41-.59l7.78-7.78 2.81-2.81c.8-.78.8-2.07 0-2.86zM5.41 20L4 18.59l7.72-7.72 1.47 1.35L5.41 20z\"/>\n",
              "  </svg>\n",
              "      </button>\n",
              "\n",
              "\n",
              "\n",
              "    <div id=\"df-bb1cce44-17a0-4cab-9942-ac654502555a\">\n",
              "      <button class=\"colab-df-quickchart\" onclick=\"quickchart('df-bb1cce44-17a0-4cab-9942-ac654502555a')\"\n",
              "              title=\"Suggest charts.\"\n",
              "              style=\"display:none;\">\n",
              "\n",
              "<svg xmlns=\"http://www.w3.org/2000/svg\" height=\"24px\"viewBox=\"0 0 24 24\"\n",
              "     width=\"24px\">\n",
              "    <g>\n",
              "        <path d=\"M19 3H5c-1.1 0-2 .9-2 2v14c0 1.1.9 2 2 2h14c1.1 0 2-.9 2-2V5c0-1.1-.9-2-2-2zM9 17H7v-7h2v7zm4 0h-2V7h2v10zm4 0h-2v-4h2v4z\"/>\n",
              "    </g>\n",
              "</svg>\n",
              "      </button>\n",
              "    </div>\n",
              "\n",
              "<style>\n",
              "  .colab-df-quickchart {\n",
              "    background-color: #E8F0FE;\n",
              "    border: none;\n",
              "    border-radius: 50%;\n",
              "    cursor: pointer;\n",
              "    display: none;\n",
              "    fill: #1967D2;\n",
              "    height: 32px;\n",
              "    padding: 0 0 0 0;\n",
              "    width: 32px;\n",
              "  }\n",
              "\n",
              "  .colab-df-quickchart:hover {\n",
              "    background-color: #E2EBFA;\n",
              "    box-shadow: 0px 1px 2px rgba(60, 64, 67, 0.3), 0px 1px 3px 1px rgba(60, 64, 67, 0.15);\n",
              "    fill: #174EA6;\n",
              "  }\n",
              "\n",
              "  [theme=dark] .colab-df-quickchart {\n",
              "    background-color: #3B4455;\n",
              "    fill: #D2E3FC;\n",
              "  }\n",
              "\n",
              "  [theme=dark] .colab-df-quickchart:hover {\n",
              "    background-color: #434B5C;\n",
              "    box-shadow: 0px 1px 3px 1px rgba(0, 0, 0, 0.15);\n",
              "    filter: drop-shadow(0px 1px 2px rgba(0, 0, 0, 0.3));\n",
              "    fill: #FFFFFF;\n",
              "  }\n",
              "</style>\n",
              "\n",
              "    <script>\n",
              "      async function quickchart(key) {\n",
              "        const containerElement = document.querySelector('#' + key);\n",
              "        const charts = await google.colab.kernel.invokeFunction(\n",
              "            'suggestCharts', [key], {});\n",
              "      }\n",
              "    </script>\n",
              "\n",
              "      <script>\n",
              "\n",
              "function displayQuickchartButton(domScope) {\n",
              "  let quickchartButtonEl =\n",
              "    domScope.querySelector('#df-bb1cce44-17a0-4cab-9942-ac654502555a button.colab-df-quickchart');\n",
              "  quickchartButtonEl.style.display =\n",
              "    google.colab.kernel.accessAllowed ? 'block' : 'none';\n",
              "}\n",
              "\n",
              "        displayQuickchartButton(document);\n",
              "      </script>\n",
              "      <style>\n",
              "    .colab-df-container {\n",
              "      display:flex;\n",
              "      flex-wrap:wrap;\n",
              "      gap: 12px;\n",
              "    }\n",
              "\n",
              "    .colab-df-convert {\n",
              "      background-color: #E8F0FE;\n",
              "      border: none;\n",
              "      border-radius: 50%;\n",
              "      cursor: pointer;\n",
              "      display: none;\n",
              "      fill: #1967D2;\n",
              "      height: 32px;\n",
              "      padding: 0 0 0 0;\n",
              "      width: 32px;\n",
              "    }\n",
              "\n",
              "    .colab-df-convert:hover {\n",
              "      background-color: #E2EBFA;\n",
              "      box-shadow: 0px 1px 2px rgba(60, 64, 67, 0.3), 0px 1px 3px 1px rgba(60, 64, 67, 0.15);\n",
              "      fill: #174EA6;\n",
              "    }\n",
              "\n",
              "    [theme=dark] .colab-df-convert {\n",
              "      background-color: #3B4455;\n",
              "      fill: #D2E3FC;\n",
              "    }\n",
              "\n",
              "    [theme=dark] .colab-df-convert:hover {\n",
              "      background-color: #434B5C;\n",
              "      box-shadow: 0px 1px 3px 1px rgba(0, 0, 0, 0.15);\n",
              "      filter: drop-shadow(0px 1px 2px rgba(0, 0, 0, 0.3));\n",
              "      fill: #FFFFFF;\n",
              "    }\n",
              "  </style>\n",
              "\n",
              "      <script>\n",
              "        const buttonEl =\n",
              "          document.querySelector('#df-2d2c30e8-f0e9-4d2b-919f-60e536c2c1f4 button.colab-df-convert');\n",
              "        buttonEl.style.display =\n",
              "          google.colab.kernel.accessAllowed ? 'block' : 'none';\n",
              "\n",
              "        async function convertToInteractive(key) {\n",
              "          const element = document.querySelector('#df-2d2c30e8-f0e9-4d2b-919f-60e536c2c1f4');\n",
              "          const dataTable =\n",
              "            await google.colab.kernel.invokeFunction('convertToInteractive',\n",
              "                                                     [key], {});\n",
              "          if (!dataTable) return;\n",
              "\n",
              "          const docLinkHtml = 'Like what you see? Visit the ' +\n",
              "            '<a target=\"_blank\" href=https://colab.research.google.com/notebooks/data_table.ipynb>data table notebook</a>'\n",
              "            + ' to learn more about interactive tables.';\n",
              "          element.innerHTML = '';\n",
              "          dataTable['output_type'] = 'display_data';\n",
              "          await google.colab.output.renderOutput(dataTable, element);\n",
              "          const docLink = document.createElement('div');\n",
              "          docLink.innerHTML = docLinkHtml;\n",
              "          element.appendChild(docLink);\n",
              "        }\n",
              "      </script>\n",
              "    </div>\n",
              "  </div>\n"
            ]
          },
          "metadata": {},
          "execution_count": 147
        }
      ]
    },
    {
      "cell_type": "markdown",
      "source": [
        "** Вторая часть**"
      ],
      "metadata": {
        "id": "SgTVaFaqlFVZ"
      }
    },
    {
      "cell_type": "code",
      "source": [
        "# from sklearn.tree import DecisionTreeClassifier"
      ],
      "metadata": {
        "id": "ZgiC-dG8J5T3"
      },
      "execution_count": 148,
      "outputs": []
    },
    {
      "cell_type": "code",
      "source": [
        "# clf = DecisionTreeClassifier()\n",
        "# clf.fit(X_train, y_train)\n",
        "# y_pred_decision_tree = clf.predict(X_test)\n",
        "# acc_decision_tree = round(clf.score(X_train, y_train) * 100, 2)\n",
        "# print (acc_decision_tree)"
      ],
      "metadata": {
        "id": "g2pQdDR8iW11"
      },
      "execution_count": null,
      "outputs": []
    },
    {
      "cell_type": "code",
      "source": [
        "df = pd.read_csv(r'garpixxx (3).csv')"
      ],
      "metadata": {
        "id": "5kopR7NOkIPg"
      },
      "execution_count": 228,
      "outputs": []
    },
    {
      "cell_type": "code",
      "source": [
        "df.head()"
      ],
      "metadata": {
        "colab": {
          "base_uri": "https://localhost:8080/",
          "height": 206
        },
        "id": "cYq0yLuKkVoo",
        "outputId": "3607c571-1213-452a-b37b-8ebad4fa45f9"
      },
      "execution_count": 229,
      "outputs": [
        {
          "output_type": "execute_result",
          "data": {
            "text/plain": [
              "   density_percents  loading_sizes  group       mas\n",
              "0          62.12352       61.22618    2.0     73.49\n",
              "1          64.88293       44.18843    1.0  18778.00\n",
              "2          64.41020       61.83379    2.0     13.50\n",
              "3          74.23567       67.92564    2.0     19.60\n",
              "4          59.31931       46.39305    1.0      0.00"
            ],
            "text/html": [
              "\n",
              "\n",
              "  <div id=\"df-cd0f28e1-60ee-4c7b-8088-1dd6a8e1b355\">\n",
              "    <div class=\"colab-df-container\">\n",
              "      <div>\n",
              "<style scoped>\n",
              "    .dataframe tbody tr th:only-of-type {\n",
              "        vertical-align: middle;\n",
              "    }\n",
              "\n",
              "    .dataframe tbody tr th {\n",
              "        vertical-align: top;\n",
              "    }\n",
              "\n",
              "    .dataframe thead th {\n",
              "        text-align: right;\n",
              "    }\n",
              "</style>\n",
              "<table border=\"1\" class=\"dataframe\">\n",
              "  <thead>\n",
              "    <tr style=\"text-align: right;\">\n",
              "      <th></th>\n",
              "      <th>density_percents</th>\n",
              "      <th>loading_sizes</th>\n",
              "      <th>group</th>\n",
              "      <th>mas</th>\n",
              "    </tr>\n",
              "  </thead>\n",
              "  <tbody>\n",
              "    <tr>\n",
              "      <th>0</th>\n",
              "      <td>62.12352</td>\n",
              "      <td>61.22618</td>\n",
              "      <td>2.0</td>\n",
              "      <td>73.49</td>\n",
              "    </tr>\n",
              "    <tr>\n",
              "      <th>1</th>\n",
              "      <td>64.88293</td>\n",
              "      <td>44.18843</td>\n",
              "      <td>1.0</td>\n",
              "      <td>18778.00</td>\n",
              "    </tr>\n",
              "    <tr>\n",
              "      <th>2</th>\n",
              "      <td>64.41020</td>\n",
              "      <td>61.83379</td>\n",
              "      <td>2.0</td>\n",
              "      <td>13.50</td>\n",
              "    </tr>\n",
              "    <tr>\n",
              "      <th>3</th>\n",
              "      <td>74.23567</td>\n",
              "      <td>67.92564</td>\n",
              "      <td>2.0</td>\n",
              "      <td>19.60</td>\n",
              "    </tr>\n",
              "    <tr>\n",
              "      <th>4</th>\n",
              "      <td>59.31931</td>\n",
              "      <td>46.39305</td>\n",
              "      <td>1.0</td>\n",
              "      <td>0.00</td>\n",
              "    </tr>\n",
              "  </tbody>\n",
              "</table>\n",
              "</div>\n",
              "      <button class=\"colab-df-convert\" onclick=\"convertToInteractive('df-cd0f28e1-60ee-4c7b-8088-1dd6a8e1b355')\"\n",
              "              title=\"Convert this dataframe to an interactive table.\"\n",
              "              style=\"display:none;\">\n",
              "\n",
              "  <svg xmlns=\"http://www.w3.org/2000/svg\" height=\"24px\"viewBox=\"0 0 24 24\"\n",
              "       width=\"24px\">\n",
              "    <path d=\"M0 0h24v24H0V0z\" fill=\"none\"/>\n",
              "    <path d=\"M18.56 5.44l.94 2.06.94-2.06 2.06-.94-2.06-.94-.94-2.06-.94 2.06-2.06.94zm-11 1L8.5 8.5l.94-2.06 2.06-.94-2.06-.94L8.5 2.5l-.94 2.06-2.06.94zm10 10l.94 2.06.94-2.06 2.06-.94-2.06-.94-.94-2.06-.94 2.06-2.06.94z\"/><path d=\"M17.41 7.96l-1.37-1.37c-.4-.4-.92-.59-1.43-.59-.52 0-1.04.2-1.43.59L10.3 9.45l-7.72 7.72c-.78.78-.78 2.05 0 2.83L4 21.41c.39.39.9.59 1.41.59.51 0 1.02-.2 1.41-.59l7.78-7.78 2.81-2.81c.8-.78.8-2.07 0-2.86zM5.41 20L4 18.59l7.72-7.72 1.47 1.35L5.41 20z\"/>\n",
              "  </svg>\n",
              "      </button>\n",
              "\n",
              "\n",
              "\n",
              "    <div id=\"df-57471c97-7e68-44e7-8c97-7513e5535a24\">\n",
              "      <button class=\"colab-df-quickchart\" onclick=\"quickchart('df-57471c97-7e68-44e7-8c97-7513e5535a24')\"\n",
              "              title=\"Suggest charts.\"\n",
              "              style=\"display:none;\">\n",
              "\n",
              "<svg xmlns=\"http://www.w3.org/2000/svg\" height=\"24px\"viewBox=\"0 0 24 24\"\n",
              "     width=\"24px\">\n",
              "    <g>\n",
              "        <path d=\"M19 3H5c-1.1 0-2 .9-2 2v14c0 1.1.9 2 2 2h14c1.1 0 2-.9 2-2V5c0-1.1-.9-2-2-2zM9 17H7v-7h2v7zm4 0h-2V7h2v10zm4 0h-2v-4h2v4z\"/>\n",
              "    </g>\n",
              "</svg>\n",
              "      </button>\n",
              "    </div>\n",
              "\n",
              "<style>\n",
              "  .colab-df-quickchart {\n",
              "    background-color: #E8F0FE;\n",
              "    border: none;\n",
              "    border-radius: 50%;\n",
              "    cursor: pointer;\n",
              "    display: none;\n",
              "    fill: #1967D2;\n",
              "    height: 32px;\n",
              "    padding: 0 0 0 0;\n",
              "    width: 32px;\n",
              "  }\n",
              "\n",
              "  .colab-df-quickchart:hover {\n",
              "    background-color: #E2EBFA;\n",
              "    box-shadow: 0px 1px 2px rgba(60, 64, 67, 0.3), 0px 1px 3px 1px rgba(60, 64, 67, 0.15);\n",
              "    fill: #174EA6;\n",
              "  }\n",
              "\n",
              "  [theme=dark] .colab-df-quickchart {\n",
              "    background-color: #3B4455;\n",
              "    fill: #D2E3FC;\n",
              "  }\n",
              "\n",
              "  [theme=dark] .colab-df-quickchart:hover {\n",
              "    background-color: #434B5C;\n",
              "    box-shadow: 0px 1px 3px 1px rgba(0, 0, 0, 0.15);\n",
              "    filter: drop-shadow(0px 1px 2px rgba(0, 0, 0, 0.3));\n",
              "    fill: #FFFFFF;\n",
              "  }\n",
              "</style>\n",
              "\n",
              "    <script>\n",
              "      async function quickchart(key) {\n",
              "        const containerElement = document.querySelector('#' + key);\n",
              "        const charts = await google.colab.kernel.invokeFunction(\n",
              "            'suggestCharts', [key], {});\n",
              "      }\n",
              "    </script>\n",
              "\n",
              "      <script>\n",
              "\n",
              "function displayQuickchartButton(domScope) {\n",
              "  let quickchartButtonEl =\n",
              "    domScope.querySelector('#df-57471c97-7e68-44e7-8c97-7513e5535a24 button.colab-df-quickchart');\n",
              "  quickchartButtonEl.style.display =\n",
              "    google.colab.kernel.accessAllowed ? 'block' : 'none';\n",
              "}\n",
              "\n",
              "        displayQuickchartButton(document);\n",
              "      </script>\n",
              "      <style>\n",
              "    .colab-df-container {\n",
              "      display:flex;\n",
              "      flex-wrap:wrap;\n",
              "      gap: 12px;\n",
              "    }\n",
              "\n",
              "    .colab-df-convert {\n",
              "      background-color: #E8F0FE;\n",
              "      border: none;\n",
              "      border-radius: 50%;\n",
              "      cursor: pointer;\n",
              "      display: none;\n",
              "      fill: #1967D2;\n",
              "      height: 32px;\n",
              "      padding: 0 0 0 0;\n",
              "      width: 32px;\n",
              "    }\n",
              "\n",
              "    .colab-df-convert:hover {\n",
              "      background-color: #E2EBFA;\n",
              "      box-shadow: 0px 1px 2px rgba(60, 64, 67, 0.3), 0px 1px 3px 1px rgba(60, 64, 67, 0.15);\n",
              "      fill: #174EA6;\n",
              "    }\n",
              "\n",
              "    [theme=dark] .colab-df-convert {\n",
              "      background-color: #3B4455;\n",
              "      fill: #D2E3FC;\n",
              "    }\n",
              "\n",
              "    [theme=dark] .colab-df-convert:hover {\n",
              "      background-color: #434B5C;\n",
              "      box-shadow: 0px 1px 3px 1px rgba(0, 0, 0, 0.15);\n",
              "      filter: drop-shadow(0px 1px 2px rgba(0, 0, 0, 0.3));\n",
              "      fill: #FFFFFF;\n",
              "    }\n",
              "  </style>\n",
              "\n",
              "      <script>\n",
              "        const buttonEl =\n",
              "          document.querySelector('#df-cd0f28e1-60ee-4c7b-8088-1dd6a8e1b355 button.colab-df-convert');\n",
              "        buttonEl.style.display =\n",
              "          google.colab.kernel.accessAllowed ? 'block' : 'none';\n",
              "\n",
              "        async function convertToInteractive(key) {\n",
              "          const element = document.querySelector('#df-cd0f28e1-60ee-4c7b-8088-1dd6a8e1b355');\n",
              "          const dataTable =\n",
              "            await google.colab.kernel.invokeFunction('convertToInteractive',\n",
              "                                                     [key], {});\n",
              "          if (!dataTable) return;\n",
              "\n",
              "          const docLinkHtml = 'Like what you see? Visit the ' +\n",
              "            '<a target=\"_blank\" href=https://colab.research.google.com/notebooks/data_table.ipynb>data table notebook</a>'\n",
              "            + ' to learn more about interactive tables.';\n",
              "          element.innerHTML = '';\n",
              "          dataTable['output_type'] = 'display_data';\n",
              "          await google.colab.output.renderOutput(dataTable, element);\n",
              "          const docLink = document.createElement('div');\n",
              "          docLink.innerHTML = docLinkHtml;\n",
              "          element.appendChild(docLink);\n",
              "        }\n",
              "      </script>\n",
              "    </div>\n",
              "  </div>\n"
            ]
          },
          "metadata": {},
          "execution_count": 229
        }
      ]
    },
    {
      "cell_type": "code",
      "source": [
        "df['group'] = df['loading_sizes'].copy()"
      ],
      "metadata": {
        "id": "aGdoXYXslqtp"
      },
      "execution_count": 230,
      "outputs": []
    },
    {
      "cell_type": "code",
      "source": [
        "df.loc[(df['group'] >= 0) & (df['group'] < 34), 'group'] = 1\n",
        "df.loc[(df['group'] >= 34) & (df['group'] < 44), 'group'] = 2\n",
        "df.loc[(df['group'] >= 44) & (df['group'] < 58), 'group'] = 3\n",
        "df.loc[(df['group'] >= 58) & (df['group'] < 72), 'group'] = 4\n",
        "df.loc[(df['group'] >= 72) & (df['group'] < 86), 'group'] = 5\n",
        "df.loc[(df['group'] >= 86) & (df['group'] <= 100), 'group'] = 6"
      ],
      "metadata": {
        "id": "q11e-Gnbkx4D"
      },
      "execution_count": 231,
      "outputs": []
    },
    {
      "cell_type": "code",
      "source": [
        "df.head()"
      ],
      "metadata": {
        "colab": {
          "base_uri": "https://localhost:8080/",
          "height": 206
        },
        "id": "dYSB1qU-6SVc",
        "outputId": "6451b0a6-fb27-43b5-975b-a4b4ca6ca80b"
      },
      "execution_count": 232,
      "outputs": [
        {
          "output_type": "execute_result",
          "data": {
            "text/plain": [
              "   density_percents  loading_sizes  group       mas\n",
              "0          62.12352       61.22618    4.0     73.49\n",
              "1          64.88293       44.18843    3.0  18778.00\n",
              "2          64.41020       61.83379    4.0     13.50\n",
              "3          74.23567       67.92564    4.0     19.60\n",
              "4          59.31931       46.39305    3.0      0.00"
            ],
            "text/html": [
              "\n",
              "\n",
              "  <div id=\"df-e43c9900-95d5-4e09-a243-c15eb81b6f63\">\n",
              "    <div class=\"colab-df-container\">\n",
              "      <div>\n",
              "<style scoped>\n",
              "    .dataframe tbody tr th:only-of-type {\n",
              "        vertical-align: middle;\n",
              "    }\n",
              "\n",
              "    .dataframe tbody tr th {\n",
              "        vertical-align: top;\n",
              "    }\n",
              "\n",
              "    .dataframe thead th {\n",
              "        text-align: right;\n",
              "    }\n",
              "</style>\n",
              "<table border=\"1\" class=\"dataframe\">\n",
              "  <thead>\n",
              "    <tr style=\"text-align: right;\">\n",
              "      <th></th>\n",
              "      <th>density_percents</th>\n",
              "      <th>loading_sizes</th>\n",
              "      <th>group</th>\n",
              "      <th>mas</th>\n",
              "    </tr>\n",
              "  </thead>\n",
              "  <tbody>\n",
              "    <tr>\n",
              "      <th>0</th>\n",
              "      <td>62.12352</td>\n",
              "      <td>61.22618</td>\n",
              "      <td>4.0</td>\n",
              "      <td>73.49</td>\n",
              "    </tr>\n",
              "    <tr>\n",
              "      <th>1</th>\n",
              "      <td>64.88293</td>\n",
              "      <td>44.18843</td>\n",
              "      <td>3.0</td>\n",
              "      <td>18778.00</td>\n",
              "    </tr>\n",
              "    <tr>\n",
              "      <th>2</th>\n",
              "      <td>64.41020</td>\n",
              "      <td>61.83379</td>\n",
              "      <td>4.0</td>\n",
              "      <td>13.50</td>\n",
              "    </tr>\n",
              "    <tr>\n",
              "      <th>3</th>\n",
              "      <td>74.23567</td>\n",
              "      <td>67.92564</td>\n",
              "      <td>4.0</td>\n",
              "      <td>19.60</td>\n",
              "    </tr>\n",
              "    <tr>\n",
              "      <th>4</th>\n",
              "      <td>59.31931</td>\n",
              "      <td>46.39305</td>\n",
              "      <td>3.0</td>\n",
              "      <td>0.00</td>\n",
              "    </tr>\n",
              "  </tbody>\n",
              "</table>\n",
              "</div>\n",
              "      <button class=\"colab-df-convert\" onclick=\"convertToInteractive('df-e43c9900-95d5-4e09-a243-c15eb81b6f63')\"\n",
              "              title=\"Convert this dataframe to an interactive table.\"\n",
              "              style=\"display:none;\">\n",
              "\n",
              "  <svg xmlns=\"http://www.w3.org/2000/svg\" height=\"24px\"viewBox=\"0 0 24 24\"\n",
              "       width=\"24px\">\n",
              "    <path d=\"M0 0h24v24H0V0z\" fill=\"none\"/>\n",
              "    <path d=\"M18.56 5.44l.94 2.06.94-2.06 2.06-.94-2.06-.94-.94-2.06-.94 2.06-2.06.94zm-11 1L8.5 8.5l.94-2.06 2.06-.94-2.06-.94L8.5 2.5l-.94 2.06-2.06.94zm10 10l.94 2.06.94-2.06 2.06-.94-2.06-.94-.94-2.06-.94 2.06-2.06.94z\"/><path d=\"M17.41 7.96l-1.37-1.37c-.4-.4-.92-.59-1.43-.59-.52 0-1.04.2-1.43.59L10.3 9.45l-7.72 7.72c-.78.78-.78 2.05 0 2.83L4 21.41c.39.39.9.59 1.41.59.51 0 1.02-.2 1.41-.59l7.78-7.78 2.81-2.81c.8-.78.8-2.07 0-2.86zM5.41 20L4 18.59l7.72-7.72 1.47 1.35L5.41 20z\"/>\n",
              "  </svg>\n",
              "      </button>\n",
              "\n",
              "\n",
              "\n",
              "    <div id=\"df-b629fc6d-9b4b-49d8-8b8f-dfeee1b9dee7\">\n",
              "      <button class=\"colab-df-quickchart\" onclick=\"quickchart('df-b629fc6d-9b4b-49d8-8b8f-dfeee1b9dee7')\"\n",
              "              title=\"Suggest charts.\"\n",
              "              style=\"display:none;\">\n",
              "\n",
              "<svg xmlns=\"http://www.w3.org/2000/svg\" height=\"24px\"viewBox=\"0 0 24 24\"\n",
              "     width=\"24px\">\n",
              "    <g>\n",
              "        <path d=\"M19 3H5c-1.1 0-2 .9-2 2v14c0 1.1.9 2 2 2h14c1.1 0 2-.9 2-2V5c0-1.1-.9-2-2-2zM9 17H7v-7h2v7zm4 0h-2V7h2v10zm4 0h-2v-4h2v4z\"/>\n",
              "    </g>\n",
              "</svg>\n",
              "      </button>\n",
              "    </div>\n",
              "\n",
              "<style>\n",
              "  .colab-df-quickchart {\n",
              "    background-color: #E8F0FE;\n",
              "    border: none;\n",
              "    border-radius: 50%;\n",
              "    cursor: pointer;\n",
              "    display: none;\n",
              "    fill: #1967D2;\n",
              "    height: 32px;\n",
              "    padding: 0 0 0 0;\n",
              "    width: 32px;\n",
              "  }\n",
              "\n",
              "  .colab-df-quickchart:hover {\n",
              "    background-color: #E2EBFA;\n",
              "    box-shadow: 0px 1px 2px rgba(60, 64, 67, 0.3), 0px 1px 3px 1px rgba(60, 64, 67, 0.15);\n",
              "    fill: #174EA6;\n",
              "  }\n",
              "\n",
              "  [theme=dark] .colab-df-quickchart {\n",
              "    background-color: #3B4455;\n",
              "    fill: #D2E3FC;\n",
              "  }\n",
              "\n",
              "  [theme=dark] .colab-df-quickchart:hover {\n",
              "    background-color: #434B5C;\n",
              "    box-shadow: 0px 1px 3px 1px rgba(0, 0, 0, 0.15);\n",
              "    filter: drop-shadow(0px 1px 2px rgba(0, 0, 0, 0.3));\n",
              "    fill: #FFFFFF;\n",
              "  }\n",
              "</style>\n",
              "\n",
              "    <script>\n",
              "      async function quickchart(key) {\n",
              "        const containerElement = document.querySelector('#' + key);\n",
              "        const charts = await google.colab.kernel.invokeFunction(\n",
              "            'suggestCharts', [key], {});\n",
              "      }\n",
              "    </script>\n",
              "\n",
              "      <script>\n",
              "\n",
              "function displayQuickchartButton(domScope) {\n",
              "  let quickchartButtonEl =\n",
              "    domScope.querySelector('#df-b629fc6d-9b4b-49d8-8b8f-dfeee1b9dee7 button.colab-df-quickchart');\n",
              "  quickchartButtonEl.style.display =\n",
              "    google.colab.kernel.accessAllowed ? 'block' : 'none';\n",
              "}\n",
              "\n",
              "        displayQuickchartButton(document);\n",
              "      </script>\n",
              "      <style>\n",
              "    .colab-df-container {\n",
              "      display:flex;\n",
              "      flex-wrap:wrap;\n",
              "      gap: 12px;\n",
              "    }\n",
              "\n",
              "    .colab-df-convert {\n",
              "      background-color: #E8F0FE;\n",
              "      border: none;\n",
              "      border-radius: 50%;\n",
              "      cursor: pointer;\n",
              "      display: none;\n",
              "      fill: #1967D2;\n",
              "      height: 32px;\n",
              "      padding: 0 0 0 0;\n",
              "      width: 32px;\n",
              "    }\n",
              "\n",
              "    .colab-df-convert:hover {\n",
              "      background-color: #E2EBFA;\n",
              "      box-shadow: 0px 1px 2px rgba(60, 64, 67, 0.3), 0px 1px 3px 1px rgba(60, 64, 67, 0.15);\n",
              "      fill: #174EA6;\n",
              "    }\n",
              "\n",
              "    [theme=dark] .colab-df-convert {\n",
              "      background-color: #3B4455;\n",
              "      fill: #D2E3FC;\n",
              "    }\n",
              "\n",
              "    [theme=dark] .colab-df-convert:hover {\n",
              "      background-color: #434B5C;\n",
              "      box-shadow: 0px 1px 3px 1px rgba(0, 0, 0, 0.15);\n",
              "      filter: drop-shadow(0px 1px 2px rgba(0, 0, 0, 0.3));\n",
              "      fill: #FFFFFF;\n",
              "    }\n",
              "  </style>\n",
              "\n",
              "      <script>\n",
              "        const buttonEl =\n",
              "          document.querySelector('#df-e43c9900-95d5-4e09-a243-c15eb81b6f63 button.colab-df-convert');\n",
              "        buttonEl.style.display =\n",
              "          google.colab.kernel.accessAllowed ? 'block' : 'none';\n",
              "\n",
              "        async function convertToInteractive(key) {\n",
              "          const element = document.querySelector('#df-e43c9900-95d5-4e09-a243-c15eb81b6f63');\n",
              "          const dataTable =\n",
              "            await google.colab.kernel.invokeFunction('convertToInteractive',\n",
              "                                                     [key], {});\n",
              "          if (!dataTable) return;\n",
              "\n",
              "          const docLinkHtml = 'Like what you see? Visit the ' +\n",
              "            '<a target=\"_blank\" href=https://colab.research.google.com/notebooks/data_table.ipynb>data table notebook</a>'\n",
              "            + ' to learn more about interactive tables.';\n",
              "          element.innerHTML = '';\n",
              "          dataTable['output_type'] = 'display_data';\n",
              "          await google.colab.output.renderOutput(dataTable, element);\n",
              "          const docLink = document.createElement('div');\n",
              "          docLink.innerHTML = docLinkHtml;\n",
              "          element.appendChild(docLink);\n",
              "        }\n",
              "      </script>\n",
              "    </div>\n",
              "  </div>\n"
            ]
          },
          "metadata": {},
          "execution_count": 232
        }
      ]
    },
    {
      "cell_type": "code",
      "source": [
        "df['group'].value_counts()"
      ],
      "metadata": {
        "colab": {
          "base_uri": "https://localhost:8080/"
        },
        "id": "Bg7jXscikxx7",
        "outputId": "553c9868-6d28-4f4a-c9e0-1f06fef1c190"
      },
      "execution_count": 193,
      "outputs": [
        {
          "output_type": "execute_result",
          "data": {
            "text/plain": [
              "1.0    150\n",
              "4.0    129\n",
              "5.0    124\n",
              "3.0     99\n",
              "2.0     88\n",
              "6.0     37\n",
              "Name: group, dtype: int64"
            ]
          },
          "metadata": {},
          "execution_count": 193
        }
      ]
    },
    {
      "cell_type": "code",
      "source": [
        "plt.scatter(df['density_percents'], df['loading_sizes'], label='data', c='b')"
      ],
      "metadata": {
        "id": "rIz_Dri_mNNB"
      },
      "execution_count": null,
      "outputs": []
    },
    {
      "cell_type": "code",
      "source": [
        "# for index, row in df.iterrows():\n",
        "#   if row == 2:\n",
        "# print(df['density_percents'])"
      ],
      "metadata": {
        "id": "GKJMZcR7nRjO"
      },
      "execution_count": null,
      "outputs": []
    },
    {
      "cell_type": "markdown",
      "source": [
        "Нормализация данных"
      ],
      "metadata": {
        "id": "0UZvC6Aqr6o4"
      }
    },
    {
      "cell_type": "code",
      "source": [
        "from sklearn import preprocessing\n",
        "scaler = preprocessing.MinMaxScaler()\n",
        "names = df.columns\n",
        "d = scaler.fit_transform(df)\n",
        "df = pd.DataFrame(d, columns=names)"
      ],
      "metadata": {
        "id": "ii3ReaQgqsyb"
      },
      "execution_count": 194,
      "outputs": []
    },
    {
      "cell_type": "code",
      "source": [
        "df.head()"
      ],
      "metadata": {
        "colab": {
          "base_uri": "https://localhost:8080/",
          "height": 206
        },
        "id": "-CLuz2Qhr_UV",
        "outputId": "8442b78b-890a-4ce3-b67e-3e4e1f457b64"
      },
      "execution_count": 195,
      "outputs": [
        {
          "output_type": "execute_result",
          "data": {
            "text/plain": [
              "   density_percents  loading_sizes  group       mas\n",
              "0          0.569707       0.621971    0.6  0.000039\n",
              "1          0.601055       0.448884    0.4  0.009958\n",
              "2          0.595685       0.628143    0.6  0.000007\n",
              "3          0.707307       0.690030    0.6  0.000010\n",
              "4          0.537850       0.471281    0.4  0.000000"
            ],
            "text/html": [
              "\n",
              "\n",
              "  <div id=\"df-6237c724-a5a9-4cbc-9f19-13fff639b113\">\n",
              "    <div class=\"colab-df-container\">\n",
              "      <div>\n",
              "<style scoped>\n",
              "    .dataframe tbody tr th:only-of-type {\n",
              "        vertical-align: middle;\n",
              "    }\n",
              "\n",
              "    .dataframe tbody tr th {\n",
              "        vertical-align: top;\n",
              "    }\n",
              "\n",
              "    .dataframe thead th {\n",
              "        text-align: right;\n",
              "    }\n",
              "</style>\n",
              "<table border=\"1\" class=\"dataframe\">\n",
              "  <thead>\n",
              "    <tr style=\"text-align: right;\">\n",
              "      <th></th>\n",
              "      <th>density_percents</th>\n",
              "      <th>loading_sizes</th>\n",
              "      <th>group</th>\n",
              "      <th>mas</th>\n",
              "    </tr>\n",
              "  </thead>\n",
              "  <tbody>\n",
              "    <tr>\n",
              "      <th>0</th>\n",
              "      <td>0.569707</td>\n",
              "      <td>0.621971</td>\n",
              "      <td>0.6</td>\n",
              "      <td>0.000039</td>\n",
              "    </tr>\n",
              "    <tr>\n",
              "      <th>1</th>\n",
              "      <td>0.601055</td>\n",
              "      <td>0.448884</td>\n",
              "      <td>0.4</td>\n",
              "      <td>0.009958</td>\n",
              "    </tr>\n",
              "    <tr>\n",
              "      <th>2</th>\n",
              "      <td>0.595685</td>\n",
              "      <td>0.628143</td>\n",
              "      <td>0.6</td>\n",
              "      <td>0.000007</td>\n",
              "    </tr>\n",
              "    <tr>\n",
              "      <th>3</th>\n",
              "      <td>0.707307</td>\n",
              "      <td>0.690030</td>\n",
              "      <td>0.6</td>\n",
              "      <td>0.000010</td>\n",
              "    </tr>\n",
              "    <tr>\n",
              "      <th>4</th>\n",
              "      <td>0.537850</td>\n",
              "      <td>0.471281</td>\n",
              "      <td>0.4</td>\n",
              "      <td>0.000000</td>\n",
              "    </tr>\n",
              "  </tbody>\n",
              "</table>\n",
              "</div>\n",
              "      <button class=\"colab-df-convert\" onclick=\"convertToInteractive('df-6237c724-a5a9-4cbc-9f19-13fff639b113')\"\n",
              "              title=\"Convert this dataframe to an interactive table.\"\n",
              "              style=\"display:none;\">\n",
              "\n",
              "  <svg xmlns=\"http://www.w3.org/2000/svg\" height=\"24px\"viewBox=\"0 0 24 24\"\n",
              "       width=\"24px\">\n",
              "    <path d=\"M0 0h24v24H0V0z\" fill=\"none\"/>\n",
              "    <path d=\"M18.56 5.44l.94 2.06.94-2.06 2.06-.94-2.06-.94-.94-2.06-.94 2.06-2.06.94zm-11 1L8.5 8.5l.94-2.06 2.06-.94-2.06-.94L8.5 2.5l-.94 2.06-2.06.94zm10 10l.94 2.06.94-2.06 2.06-.94-2.06-.94-.94-2.06-.94 2.06-2.06.94z\"/><path d=\"M17.41 7.96l-1.37-1.37c-.4-.4-.92-.59-1.43-.59-.52 0-1.04.2-1.43.59L10.3 9.45l-7.72 7.72c-.78.78-.78 2.05 0 2.83L4 21.41c.39.39.9.59 1.41.59.51 0 1.02-.2 1.41-.59l7.78-7.78 2.81-2.81c.8-.78.8-2.07 0-2.86zM5.41 20L4 18.59l7.72-7.72 1.47 1.35L5.41 20z\"/>\n",
              "  </svg>\n",
              "      </button>\n",
              "\n",
              "\n",
              "\n",
              "    <div id=\"df-4de84b16-7673-4410-b614-9c0e5c1ce374\">\n",
              "      <button class=\"colab-df-quickchart\" onclick=\"quickchart('df-4de84b16-7673-4410-b614-9c0e5c1ce374')\"\n",
              "              title=\"Suggest charts.\"\n",
              "              style=\"display:none;\">\n",
              "\n",
              "<svg xmlns=\"http://www.w3.org/2000/svg\" height=\"24px\"viewBox=\"0 0 24 24\"\n",
              "     width=\"24px\">\n",
              "    <g>\n",
              "        <path d=\"M19 3H5c-1.1 0-2 .9-2 2v14c0 1.1.9 2 2 2h14c1.1 0 2-.9 2-2V5c0-1.1-.9-2-2-2zM9 17H7v-7h2v7zm4 0h-2V7h2v10zm4 0h-2v-4h2v4z\"/>\n",
              "    </g>\n",
              "</svg>\n",
              "      </button>\n",
              "    </div>\n",
              "\n",
              "<style>\n",
              "  .colab-df-quickchart {\n",
              "    background-color: #E8F0FE;\n",
              "    border: none;\n",
              "    border-radius: 50%;\n",
              "    cursor: pointer;\n",
              "    display: none;\n",
              "    fill: #1967D2;\n",
              "    height: 32px;\n",
              "    padding: 0 0 0 0;\n",
              "    width: 32px;\n",
              "  }\n",
              "\n",
              "  .colab-df-quickchart:hover {\n",
              "    background-color: #E2EBFA;\n",
              "    box-shadow: 0px 1px 2px rgba(60, 64, 67, 0.3), 0px 1px 3px 1px rgba(60, 64, 67, 0.15);\n",
              "    fill: #174EA6;\n",
              "  }\n",
              "\n",
              "  [theme=dark] .colab-df-quickchart {\n",
              "    background-color: #3B4455;\n",
              "    fill: #D2E3FC;\n",
              "  }\n",
              "\n",
              "  [theme=dark] .colab-df-quickchart:hover {\n",
              "    background-color: #434B5C;\n",
              "    box-shadow: 0px 1px 3px 1px rgba(0, 0, 0, 0.15);\n",
              "    filter: drop-shadow(0px 1px 2px rgba(0, 0, 0, 0.3));\n",
              "    fill: #FFFFFF;\n",
              "  }\n",
              "</style>\n",
              "\n",
              "    <script>\n",
              "      async function quickchart(key) {\n",
              "        const containerElement = document.querySelector('#' + key);\n",
              "        const charts = await google.colab.kernel.invokeFunction(\n",
              "            'suggestCharts', [key], {});\n",
              "      }\n",
              "    </script>\n",
              "\n",
              "      <script>\n",
              "\n",
              "function displayQuickchartButton(domScope) {\n",
              "  let quickchartButtonEl =\n",
              "    domScope.querySelector('#df-4de84b16-7673-4410-b614-9c0e5c1ce374 button.colab-df-quickchart');\n",
              "  quickchartButtonEl.style.display =\n",
              "    google.colab.kernel.accessAllowed ? 'block' : 'none';\n",
              "}\n",
              "\n",
              "        displayQuickchartButton(document);\n",
              "      </script>\n",
              "      <style>\n",
              "    .colab-df-container {\n",
              "      display:flex;\n",
              "      flex-wrap:wrap;\n",
              "      gap: 12px;\n",
              "    }\n",
              "\n",
              "    .colab-df-convert {\n",
              "      background-color: #E8F0FE;\n",
              "      border: none;\n",
              "      border-radius: 50%;\n",
              "      cursor: pointer;\n",
              "      display: none;\n",
              "      fill: #1967D2;\n",
              "      height: 32px;\n",
              "      padding: 0 0 0 0;\n",
              "      width: 32px;\n",
              "    }\n",
              "\n",
              "    .colab-df-convert:hover {\n",
              "      background-color: #E2EBFA;\n",
              "      box-shadow: 0px 1px 2px rgba(60, 64, 67, 0.3), 0px 1px 3px 1px rgba(60, 64, 67, 0.15);\n",
              "      fill: #174EA6;\n",
              "    }\n",
              "\n",
              "    [theme=dark] .colab-df-convert {\n",
              "      background-color: #3B4455;\n",
              "      fill: #D2E3FC;\n",
              "    }\n",
              "\n",
              "    [theme=dark] .colab-df-convert:hover {\n",
              "      background-color: #434B5C;\n",
              "      box-shadow: 0px 1px 3px 1px rgba(0, 0, 0, 0.15);\n",
              "      filter: drop-shadow(0px 1px 2px rgba(0, 0, 0, 0.3));\n",
              "      fill: #FFFFFF;\n",
              "    }\n",
              "  </style>\n",
              "\n",
              "      <script>\n",
              "        const buttonEl =\n",
              "          document.querySelector('#df-6237c724-a5a9-4cbc-9f19-13fff639b113 button.colab-df-convert');\n",
              "        buttonEl.style.display =\n",
              "          google.colab.kernel.accessAllowed ? 'block' : 'none';\n",
              "\n",
              "        async function convertToInteractive(key) {\n",
              "          const element = document.querySelector('#df-6237c724-a5a9-4cbc-9f19-13fff639b113');\n",
              "          const dataTable =\n",
              "            await google.colab.kernel.invokeFunction('convertToInteractive',\n",
              "                                                     [key], {});\n",
              "          if (!dataTable) return;\n",
              "\n",
              "          const docLinkHtml = 'Like what you see? Visit the ' +\n",
              "            '<a target=\"_blank\" href=https://colab.research.google.com/notebooks/data_table.ipynb>data table notebook</a>'\n",
              "            + ' to learn more about interactive tables.';\n",
              "          element.innerHTML = '';\n",
              "          dataTable['output_type'] = 'display_data';\n",
              "          await google.colab.output.renderOutput(dataTable, element);\n",
              "          const docLink = document.createElement('div');\n",
              "          docLink.innerHTML = docLinkHtml;\n",
              "          element.appendChild(docLink);\n",
              "        }\n",
              "      </script>\n",
              "    </div>\n",
              "  </div>\n"
            ]
          },
          "metadata": {},
          "execution_count": 195
        }
      ]
    },
    {
      "cell_type": "code",
      "source": [
        "X_train, X_test, y_train, y_test = train_test_split(\n",
        "    df.drop(columns=['density_percents']), df['density_percents'], test_size=0.2, random_state=123)"
      ],
      "metadata": {
        "id": "gm4HFmmusEua"
      },
      "execution_count": 196,
      "outputs": []
    },
    {
      "cell_type": "code",
      "source": [
        "clf = LinearRegression( n_jobs=-1)\n",
        "clf.fit(X_train, y_train)\n",
        "\n",
        "preds = clf.predict(X_test)\n",
        "\n",
        "quality_metrics(y_test, preds)\n",
        "r_sq = clf.score(X_test, y_test)\n",
        "print('coefficient of determination:', r_sq)"
      ],
      "metadata": {
        "colab": {
          "base_uri": "https://localhost:8080/"
        },
        "id": "XpCWCl-_sJdq",
        "outputId": "8f1ce5e2-12f1-4637-edfa-58d1dffc1e72"
      },
      "execution_count": 197,
      "outputs": [
        {
          "output_type": "stream",
          "name": "stdout",
          "text": [
            "explained_variance_score: 0.305751311\n",
            "max_error: 0.613792466\n",
            "mean_squared_error: 0.043627544\n",
            "mean_absolute_error: 0.161886623\n",
            "coefficient of determination: 0.28837353023199297\n"
          ]
        }
      ]
    },
    {
      "cell_type": "markdown",
      "source": [
        "Чуть больше стал score у регрессии"
      ],
      "metadata": {
        "id": "bF_oJtzosQOM"
      }
    },
    {
      "cell_type": "code",
      "source": [
        "from sklearn.preprocessing import OneHotEncoder"
      ],
      "metadata": {
        "id": "ro4dmqjesbkk"
      },
      "execution_count": null,
      "outputs": []
    },
    {
      "cell_type": "code",
      "source": [
        "encoder = OneHotEncoder()\n",
        "groups_2d = df['group'].values.reshape(-1, 1)\n",
        "onehot_encoded = encoder.fit_transform(groups_2d)\n",
        "\n",
        "# Convert the sparse matrix result to a DataFrame\n",
        "onehot_encoded_df = pd.DataFrame(onehot_encoded.toarray(), columns=encoder.get_feature_names_out(['group']))\n",
        "\n",
        "# Concatenate the one-hot encoded DataFrame with the original DataFrame\n",
        "df_encoded = pd.concat([df, onehot_encoded_df], axis=1)\n",
        "\n",
        "# Drop the original 'group' column\n",
        "df_encoded.drop(columns=['group'], inplace=True)"
      ],
      "metadata": {
        "id": "EqM_fIlvsfvQ"
      },
      "execution_count": 198,
      "outputs": []
    },
    {
      "cell_type": "code",
      "source": [
        "df = df_encoded.copy()"
      ],
      "metadata": {
        "id": "ImgcXw3MshfB"
      },
      "execution_count": 200,
      "outputs": []
    },
    {
      "cell_type": "code",
      "source": [
        "X_train, X_test, y_train, y_test = train_test_split(\n",
        "    df.drop(columns=['density_percents']), df['density_percents'], test_size=0.2, random_state=123)"
      ],
      "metadata": {
        "id": "I0hH0a74swbO"
      },
      "execution_count": 222,
      "outputs": []
    },
    {
      "cell_type": "code",
      "source": [
        "reg = RandomForestRegressor(n_estimators=1000)\n",
        "reg.fit(X_train, y_train)\n",
        "preds = reg.predict(X_test)\n",
        "quality_metrics(y_test, preds)\n",
        "r_sq = reg.score(X_test, y_test)\n",
        "print('coefficient of determination:', r_sq)"
      ],
      "metadata": {
        "colab": {
          "base_uri": "https://localhost:8080/"
        },
        "id": "xZZhWkt7syxg",
        "outputId": "bf9b768d-0632-4977-eed9-869f0167df89"
      },
      "execution_count": 202,
      "outputs": [
        {
          "output_type": "stream",
          "name": "stdout",
          "text": [
            "explained_variance_score: 0.307813520\n",
            "max_error: 0.783493587\n",
            "mean_squared_error: 0.043266698\n",
            "mean_absolute_error: 0.133285600\n",
            "coefficient of determination: 0.29425943016758993\n"
          ]
        }
      ]
    },
    {
      "cell_type": "markdown",
      "source": [
        "У деревьев score стал хуже"
      ],
      "metadata": {
        "id": "aEANsBops9TO"
      }
    },
    {
      "cell_type": "code",
      "source": [
        "# @title Текст заголовка по умолчанию\n",
        "# from sklearn.model_selection import GridSearchCV\n",
        "# from sklearn.model_selection import RandomizedSearchCV"
      ],
      "metadata": {
        "id": "wjw5o6NGwQYU"
      },
      "execution_count": 203,
      "outputs": []
    },
    {
      "cell_type": "code",
      "source": [
        "# def search_and_draw(X, y, model, param_name, grid, param_scale='ordinary', draw=True):\n",
        "#     parameters = {param_name: grid}\n",
        "\n",
        "#     CV_model = GridSearchCV(estimator=model,\n",
        "#                             param_grid=parameters,\n",
        "#                             cv=5,\n",
        "#                             scoring='f1',\n",
        "#                             n_jobs=-1,\n",
        "#                             verbose=10)\n",
        "#     CV_model.fit(X, y)\n",
        "#     means = CV_model.cv_results_['mean_test_score']\n",
        "#     error = CV_model.cv_results_['std_test_score']\n",
        "\n",
        "#     if draw:\n",
        "#         plt.figure(figsize=(15,8))\n",
        "#         plt.title('choose ' + param_name)\n",
        "\n",
        "\n",
        "#         if (param_scale == 'log'):\n",
        "#             plt.xscale('log')\n",
        "\n",
        "#         plt.plot(grid, means, label='mean values of score', color='red', lw=3)\n",
        "\n",
        "#         plt.fill_between(grid, means - 2 * error, means + 2 * error,\n",
        "#                          color='green', label='filled area between errors', alpha=0.5)\n",
        "#         legend_box = plt.legend(framealpha=1).get_frame()\n",
        "#         legend_box.set_facecolor(\"white\")\n",
        "#         legend_box.set_edgecolor(\"black\")\n",
        "#         plt.xlabel('parameter')\n",
        "#         plt.ylabel('roc_auc')\n",
        "#         plt.show()\n",
        "\n",
        "#     return means, error"
      ],
      "metadata": {
        "id": "FzHtK3aIwRO6"
      },
      "execution_count": 204,
      "outputs": []
    },
    {
      "cell_type": "code",
      "source": [
        "# from sklearn.neighbors import KNeighborsClassifier\n",
        "# from sklearn.tree import DecisionTreeClassifier"
      ],
      "metadata": {
        "id": "bO8GGM-RxEas"
      },
      "execution_count": 205,
      "outputs": []
    },
    {
      "cell_type": "code",
      "source": [
        "# models = [KNeighborsClassifier(), DecisionTreeClassifier()]\n",
        "# param_names = ['n_neighbors', 'max_depth']\n",
        "# grids = [np.array(np.linspace(4, 30, 8), dtype='int'), np.arange(1, 30)]\n",
        "# param_scales = ['log', 'ordinary']"
      ],
      "metadata": {
        "id": "rMxT_GdSxBks"
      },
      "execution_count": 208,
      "outputs": []
    },
    {
      "cell_type": "code",
      "source": [
        "# for model, param_name, grid, param_scale in zip(models,\n",
        "#                                                 param_names,\n",
        "#                                                 grids,\n",
        "#                                                 param_scales):\n",
        "#     search_and_draw(X_train, y_train, model, param_name, grid, param_scale)"
      ],
      "metadata": {
        "id": "rsTVjiaZxKrU"
      },
      "execution_count": null,
      "outputs": []
    },
    {
      "cell_type": "code",
      "source": [
        "# from sklearn.pipeline import Pipeline\n",
        "# from sklearn.model_selection import GridSearchCV\n",
        "# from sklearn.preprocessing import StandardScaler\n",
        "# from sklearn import linear_model, decomposition, datasets"
      ],
      "metadata": {
        "id": "Iv31I-P0yv1r"
      },
      "execution_count": 214,
      "outputs": []
    },
    {
      "cell_type": "code",
      "source": [
        "# std_slc = StandardScaler()"
      ],
      "metadata": {
        "id": "D-R3j6c9zCXI"
      },
      "execution_count": 215,
      "outputs": []
    },
    {
      "cell_type": "code",
      "source": [
        "# pca = decomposition.PCA()"
      ],
      "metadata": {
        "id": "GstKiLvxzGPM"
      },
      "execution_count": 216,
      "outputs": []
    },
    {
      "cell_type": "code",
      "source": [
        "# logistic_Reg = linear_model.LogisticRegression()"
      ],
      "metadata": {
        "id": "AvcOy_NKzJl-"
      },
      "execution_count": 217,
      "outputs": []
    },
    {
      "cell_type": "code",
      "source": [
        "# pipe = Pipeline(steps=[('std_slc', std_slc),\n",
        "#                         ('pca', pca),\n",
        "#                         ('logistic_Reg', logistic_Reg)])"
      ],
      "metadata": {
        "id": "Dbg65NKoywXn"
      },
      "execution_count": 218,
      "outputs": []
    },
    {
      "cell_type": "code",
      "source": [
        "# n_components = list(range(1,X_train.shape[1]+1,1))"
      ],
      "metadata": {
        "id": "jSWSLJ6TzS7Z"
      },
      "execution_count": null,
      "outputs": []
    },
    {
      "cell_type": "code",
      "source": [
        "# C = np.logspace(-4, 4, 50)\n",
        "#     penalty = ['l1', 'l2']"
      ],
      "metadata": {
        "id": "HIHA8SjRzVyV"
      },
      "execution_count": null,
      "outputs": []
    },
    {
      "cell_type": "code",
      "source": [
        "# parameters = dict(pca__n_components=n_components,\n",
        "#                   logistic_Reg__C=C,\n",
        "#                   logistic_Reg__penalty=penalty)"
      ],
      "metadata": {
        "id": "TlZEhl2HzcsA"
      },
      "execution_count": null,
      "outputs": []
    },
    {
      "cell_type": "code",
      "source": [],
      "metadata": {
        "id": "0uInucXHz3Oo"
      },
      "execution_count": null,
      "outputs": []
    },
    {
      "cell_type": "code",
      "source": [
        "def Grid_Search_CV_RFR(X_train, y_train):\n",
        "    from sklearn.model_selection import GridSearchCV\n",
        "    from sklearn.model_selection import ShuffleSplit\n",
        "    from sklearn.ensemble import RandomForestRegressor\n",
        "\n",
        "    estimator = RandomForestRegressor()\n",
        "    param_grid = {\n",
        "            \"n_estimators\"      : [10,20,30],\n",
        "            \"max_features\"      : [\"auto\", \"sqrt\", \"log2\"],\n",
        "            \"min_samples_split\" : [2,4,8],\n",
        "            \"bootstrap\": [True, False],\n",
        "            }\n",
        "\n",
        "    grid = GridSearchCV(estimator, param_grid, n_jobs=-1, cv=5)\n",
        "\n",
        "    grid.fit(X_train, y_train)\n",
        "\n",
        "    return grid.best_score_ , grid.best_params_\n",
        "\n",
        "def RFR(X_train, X_test, y_train, y_test, best_params):\n",
        "    from sklearn.ensemble import RandomForestRegressor\n",
        "    estimator = RandomForestRegressor(n_jobs=-1).set_params(**best_params)\n",
        "    estimator.fit(X_train,y_train)\n",
        "    y_predict = estimator.predict(X_test)\n",
        "    print (r2(y_test,y_predict))\n",
        "    return y_test,y_predict\n",
        "\n",
        "def splitter_v2(tab,y_indicator):\n",
        "    from sklearn.model_selection import train_test_split\n",
        "    # Asignamos X e y, eliminando la columna y en X\n",
        "    X = correlacion(tab,y_indicator)\n",
        "    y = tab[:,y_indicator]\n",
        "    # Separamos Train y Test respectivamente para X e y\n",
        "    X_train, X_test, y_train, y_test = train_test_split(X, y, test_size=0.2)\n",
        "    return X_train, X_test, y_train, y_test"
      ],
      "metadata": {
        "id": "zXNd6w8mz3MG"
      },
      "execution_count": 225,
      "outputs": []
    },
    {
      "cell_type": "code",
      "source": [
        "Grid_Search_CV_RFR(X_train, y_train)"
      ],
      "metadata": {
        "colab": {
          "base_uri": "https://localhost:8080/"
        },
        "id": "cQqNRPow0HCD",
        "outputId": "2c7210f3-e5b8-4044-f38f-7d4617e8730c"
      },
      "execution_count": 227,
      "outputs": [
        {
          "output_type": "execute_result",
          "data": {
            "text/plain": [
              "(0.26449224387543413,\n",
              " {'bootstrap': True,\n",
              "  'max_features': 'log2',\n",
              "  'min_samples_split': 8,\n",
              "  'n_estimators': 30})"
            ]
          },
          "metadata": {},
          "execution_count": 227
        }
      ]
    },
    {
      "cell_type": "markdown",
      "source": [
        "GridSearch для RandomForestRegressor дал хуже результаты."
      ],
      "metadata": {
        "id": "zPSQ-C-p1NGS"
      }
    },
    {
      "cell_type": "code",
      "source": [
        "# for i in range(5):\n",
        "#     print \"Loop: \" , i\n",
        "#     print \"--------------\"\n",
        "#     X_train, X_test, y_train, y_test = splitter_v2(tabla,1)\n",
        "#     best_score, best_params = Grid_Search_CV_RFR(X_train, y_train)\n",
        "#     y_test , y_predict = RFR(X_train, X_test, y_train, y_test, best_params)\n",
        "#     print \"Best Score:\" ,best_score\n",
        "#     print \"Best params:\",best_params"
      ],
      "metadata": {
        "id": "p2lHHJiU0lVo"
      },
      "execution_count": null,
      "outputs": []
    }
  ],
  "metadata": {
    "kernelspec": {
      "display_name": "Python 3",
      "language": "python",
      "name": "python3"
    },
    "language_info": {
      "codemirror_mode": {
        "name": "ipython",
        "version": 2
      },
      "file_extension": ".py",
      "mimetype": "text/x-python",
      "name": "python",
      "nbconvert_exporter": "python",
      "pygments_lexer": "ipython2",
      "version": "2.7.6"
    },
    "colab": {
      "provenance": []
    }
  },
  "nbformat": 4,
  "nbformat_minor": 0
}